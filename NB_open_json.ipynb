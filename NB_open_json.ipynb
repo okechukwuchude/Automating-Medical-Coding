{
  "cells": [
    {
      "cell_type": "markdown",
      "metadata": {
        "id": "view-in-github",
        "colab_type": "text"
      },
      "source": [
        "<a href=\"https://colab.research.google.com/github/okechukwuchude/Automating-Medical-Coding/blob/main/NB_open_json.ipynb\" target=\"_parent\"><img src=\"https://colab.research.google.com/assets/colab-badge.svg\" alt=\"Open In Colab\"/></a>"
      ]
    },
    {
      "cell_type": "code",
      "source": [
        "from google.colab import drive\n",
        "drive.mount('/content/drive')"
      ],
      "metadata": {
        "colab": {
          "base_uri": "https://localhost:8080/"
        },
        "id": "IxgvRtSmeI-y",
        "outputId": "b0eda993-3af7-4d83-cbf6-ffa460be002c"
      },
      "execution_count": 36,
      "outputs": [
        {
          "output_type": "stream",
          "name": "stdout",
          "text": [
            "Drive already mounted at /content/drive; to attempt to forcibly remount, call drive.mount(\"/content/drive\", force_remount=True).\n"
          ]
        }
      ]
    },
    {
      "cell_type": "code",
      "source": [
        "pip install stanza"
      ],
      "metadata": {
        "colab": {
          "base_uri": "https://localhost:8080/"
        },
        "id": "c9cY0O3UfyLk",
        "outputId": "1876ad70-27e3-4563-99ac-d36fb6db01fe"
      },
      "execution_count": 37,
      "outputs": [
        {
          "output_type": "stream",
          "name": "stdout",
          "text": [
            "Requirement already satisfied: stanza in /usr/local/lib/python3.10/dist-packages (1.8.1)\n",
            "Requirement already satisfied: emoji in /usr/local/lib/python3.10/dist-packages (from stanza) (2.10.1)\n",
            "Requirement already satisfied: numpy in /usr/local/lib/python3.10/dist-packages (from stanza) (1.25.2)\n",
            "Requirement already satisfied: protobuf>=3.15.0 in /usr/local/lib/python3.10/dist-packages (from stanza) (3.20.3)\n",
            "Requirement already satisfied: requests in /usr/local/lib/python3.10/dist-packages (from stanza) (2.31.0)\n",
            "Requirement already satisfied: networkx in /usr/local/lib/python3.10/dist-packages (from stanza) (3.2.1)\n",
            "Requirement already satisfied: toml in /usr/local/lib/python3.10/dist-packages (from stanza) (0.10.2)\n",
            "Requirement already satisfied: torch>=1.3.0 in /usr/local/lib/python3.10/dist-packages (from stanza) (2.1.0+cu121)\n",
            "Requirement already satisfied: tqdm in /usr/local/lib/python3.10/dist-packages (from stanza) (4.66.2)\n",
            "Requirement already satisfied: filelock in /usr/local/lib/python3.10/dist-packages (from torch>=1.3.0->stanza) (3.13.1)\n",
            "Requirement already satisfied: typing-extensions in /usr/local/lib/python3.10/dist-packages (from torch>=1.3.0->stanza) (4.10.0)\n",
            "Requirement already satisfied: sympy in /usr/local/lib/python3.10/dist-packages (from torch>=1.3.0->stanza) (1.12)\n",
            "Requirement already satisfied: jinja2 in /usr/local/lib/python3.10/dist-packages (from torch>=1.3.0->stanza) (3.1.3)\n",
            "Requirement already satisfied: fsspec in /usr/local/lib/python3.10/dist-packages (from torch>=1.3.0->stanza) (2023.6.0)\n",
            "Requirement already satisfied: triton==2.1.0 in /usr/local/lib/python3.10/dist-packages (from torch>=1.3.0->stanza) (2.1.0)\n",
            "Requirement already satisfied: charset-normalizer<4,>=2 in /usr/local/lib/python3.10/dist-packages (from requests->stanza) (3.3.2)\n",
            "Requirement already satisfied: idna<4,>=2.5 in /usr/local/lib/python3.10/dist-packages (from requests->stanza) (3.6)\n",
            "Requirement already satisfied: urllib3<3,>=1.21.1 in /usr/local/lib/python3.10/dist-packages (from requests->stanza) (2.0.7)\n",
            "Requirement already satisfied: certifi>=2017.4.17 in /usr/local/lib/python3.10/dist-packages (from requests->stanza) (2024.2.2)\n",
            "Requirement already satisfied: MarkupSafe>=2.0 in /usr/local/lib/python3.10/dist-packages (from jinja2->torch>=1.3.0->stanza) (2.1.5)\n",
            "Requirement already satisfied: mpmath>=0.19 in /usr/local/lib/python3.10/dist-packages (from sympy->torch>=1.3.0->stanza) (1.3.0)\n"
          ]
        }
      ]
    },
    {
      "cell_type": "code",
      "execution_count": 38,
      "metadata": {
        "colab": {
          "base_uri": "https://localhost:8080/",
          "height": 515,
          "referenced_widgets": [
            "b13e3bd0453a4a429abecda2853663fb",
            "75028536d3d14304bcc3c059a206a123",
            "e4950724074b46a3bbc0ab522935ea83",
            "38336c8d6cc24c8aa820a69de7f474cd",
            "a79457a6a3af431fb93c95ee7df12dd4",
            "16a5a429b112473cbb101159bd672d81",
            "7eb16d3e29f9411eae3f0fb4177ddde7",
            "9a1c68c3628d4e8d9aef72409ba935fa",
            "8f4ea965c2d44d808726708ef7364d46",
            "8cff39df9e9c4bfea291eae3b9709eef",
            "2afa5f28dc7b422aa94060c0ae37265e",
            "6e53ecd6fefc42cdaeeee77d000ea935",
            "0157b6e43a56450f8beb6001bb9007c6",
            "730a735595974f63babab685e4329f9f",
            "f980fc71941548bab9964ad922d4aa24",
            "2fb582e502d947f2b8a0aef338620068",
            "5d873602854843fb9d9f09de7a3d8c7e",
            "6258aafb1c504f6bb624eeab147bb455",
            "a751d0c152854dc7b23dc0a29ffdae77",
            "94d821d5c77945d88ad9a3001a572e13",
            "75df70ba8fc24edda29d796d0fe3d507",
            "70bc78c5b9534d7d98475e75dc7f6ddf"
          ]
        },
        "id": "XeBjbnkrKenD",
        "outputId": "cfd4a0dd-c6f6-417a-ce66-4444f6a546d3"
      },
      "outputs": [
        {
          "output_type": "display_data",
          "data": {
            "text/plain": [
              "Downloading https://raw.githubusercontent.com/stanfordnlp/stanza-resources/main/resources_1.8.0.json:   0%|   …"
            ],
            "application/vnd.jupyter.widget-view+json": {
              "version_major": 2,
              "version_minor": 0,
              "model_id": "b13e3bd0453a4a429abecda2853663fb"
            }
          },
          "metadata": {}
        },
        {
          "output_type": "stream",
          "name": "stderr",
          "text": [
            "INFO:stanza:Downloaded file to /root/stanza_resources/resources.json\n",
            "INFO:stanza:Downloading default packages for language: en (English) ...\n",
            "INFO:stanza:File exists: /root/stanza_resources/en/default.zip\n",
            "INFO:stanza:Finished downloading models and saved to /root/stanza_resources\n",
            "INFO:stanza:Checking for updates to resources.json in case models have been updated.  Note: this behavior can be turned off with download_method=None or download_method=DownloadMethod.REUSE_RESOURCES\n"
          ]
        },
        {
          "output_type": "display_data",
          "data": {
            "text/plain": [
              "Downloading https://raw.githubusercontent.com/stanfordnlp/stanza-resources/main/resources_1.8.0.json:   0%|   …"
            ],
            "application/vnd.jupyter.widget-view+json": {
              "version_major": 2,
              "version_minor": 0,
              "model_id": "6e53ecd6fefc42cdaeeee77d000ea935"
            }
          },
          "metadata": {}
        },
        {
          "output_type": "stream",
          "name": "stderr",
          "text": [
            "INFO:stanza:Downloaded file to /root/stanza_resources/resources.json\n",
            "WARNING:stanza:Language en package default expects mwt, which has been added\n",
            "INFO:stanza:Loading these models for language: en (English):\n",
            "=========================================\n",
            "| Processor | Package                   |\n",
            "-----------------------------------------\n",
            "| tokenize  | combined                  |\n",
            "| mwt       | combined                  |\n",
            "| pos       | combined_charlm           |\n",
            "| lemma     | combined_nocharlm         |\n",
            "| ner       | ontonotes-ww-multi_charlm |\n",
            "=========================================\n",
            "\n",
            "INFO:stanza:Using device: cpu\n",
            "INFO:stanza:Loading: tokenize\n",
            "INFO:stanza:Loading: mwt\n",
            "INFO:stanza:Loading: pos\n",
            "INFO:stanza:Loading: lemma\n",
            "INFO:stanza:Loading: ner\n",
            "INFO:stanza:Done loading processors!\n"
          ]
        }
      ],
      "source": [
        "import os\n",
        "import json\n",
        "import stanza\n",
        "import csv\n",
        "\n",
        "# Build an English pipeline\n",
        "stanza.download('en') # download English model\n",
        "nlp = stanza.Pipeline('en', processors='tokenize,pos,lemma,ner') # initialize English neural pipeline"
      ]
    },
    {
      "cell_type": "code",
      "source": [
        "# Global variable to store all extracted texts\n",
        "extracted_texts = []"
      ],
      "metadata": {
        "id": "zlchODmWssHo"
      },
      "execution_count": 39,
      "outputs": []
    },
    {
      "cell_type": "code",
      "source": [
        "def process_text_with_stanza(text):\n",
        "    doc = nlp(text)\n",
        "    return doc\n"
      ],
      "metadata": {
        "id": "MXd91CV8i37H"
      },
      "execution_count": 40,
      "outputs": []
    },
    {
      "cell_type": "code",
      "execution_count": 41,
      "metadata": {
        "id": "FgLHCWCkKenH"
      },
      "outputs": [],
      "source": [
        "def extract_info_from_json(json_file_path, hadm_id_set):\n",
        "    global extracted_texts\n",
        "\n",
        "    # Open the JSON file\n",
        "    with open(json_file_path, 'r') as file:\n",
        "        # Load JSON data from the file\n",
        "        data = json.load(file)\n",
        "\n",
        "        # Extract 'hadm_id' and 'comment' from the JSON data\n",
        "        hadm_id = data.get('hadm_id', None)\n",
        "        comment = data.get('comment', None)\n",
        "\n",
        "        # If 'hadm_id' is not found, print a warning message\n",
        "        if hadm_id is None:\n",
        "            print(f\"Warning: 'hadm_id' not found in {json_file_path}\")\n",
        "            return None\n",
        "\n",
        "        # Add 'hadm_id' to the set\n",
        "        hadm_id_set.add(hadm_id)\n",
        "\n",
        "        # Extract 'notes' from the JSON data\n",
        "        notes = data.get('notes', [])\n",
        "\n",
        "        # Iterate through each note\n",
        "        for note in notes:\n",
        "            note_info = {}  # Initialize a dictionary to store note information\n",
        "\n",
        "            # Add 'hadm_id' to the note information\n",
        "            note_info['hadm_id'] = hadm_id\n",
        "\n",
        "            # Extract information from the note\n",
        "            note_info['note_id'] = note.get('note_id', None)\n",
        "            note_info['category'] = note.get('category', None)\n",
        "            note_info['description'] = note.get('description', None)\n",
        "\n",
        "            # Extract annotations from the note\n",
        "            annotations = note.get('annotations', [])\n",
        "            annotations_info = []  # Initialize a list to store annotation information\n",
        "\n",
        "            # Iterate through each annotation in the note\n",
        "            for annotation in annotations:\n",
        "                annotation_info = {}  # Initialize a dictionary to store annotation information\n",
        "\n",
        "                # Extract information from the annotation\n",
        "                annotation_info['begin'] = annotation.get('begin', None)\n",
        "                annotation_info['end'] = annotation.get('end', None)\n",
        "                annotation_info['code'] = annotation.get('code', None)\n",
        "                annotation_info['code_system'] = annotation.get('code_system', None)\n",
        "                annotation_info['description'] = annotation.get('description', None)\n",
        "                annotation_info['type'] = annotation.get('type', None)\n",
        "                annotation_info['covered_text'] = annotation.get('covered_text', None)\n",
        "\n",
        "                annotations_info.append(annotation_info)  # Append annotation information to the list\n",
        "\n",
        "            note_info['annotations'] = annotations_info  # Add annotations information to the note\n",
        "            note_info['text'] = note.get('text', None)\n",
        "\n",
        "            # Process text with Stanza\n",
        "            if note_info['text']:\n",
        "                processed_text = process_text_with_stanza(note_info['text'])\n",
        "                note_info['processed_text'] = processed_text\n",
        "\n",
        "                # Count number of sentences and store it\n",
        "                num_sentences = len(processed_text.sentences)\n",
        "                note_info['num_sentences'] = num_sentences\n",
        "\n",
        "            extracted_texts.append(note_info)  # Append note information to the global variable"
      ]
    },
    {
      "cell_type": "code",
      "execution_count": 42,
      "metadata": {
        "id": "2S3Lh7OMKenI"
      },
      "outputs": [],
      "source": [
        "def search_files(folder_path):\n",
        "    # Set to store unique hadm_id values\n",
        "    hadm_id_set = set()\n",
        "\n",
        "    # Recursively search for JSON files in the folder and its subfolders\n",
        "    for root, dirs, files in os.walk(folder_path):\n",
        "        for filename in files:\n",
        "            if filename.endswith('.json'):\n",
        "                # Construct the full path to the JSON file\n",
        "                json_file_path = os.path.join(root, filename)\n",
        "                print(\"Processing:\", json_file_path)\n",
        "                # Call extract_info_from_json function to extract information from the JSON file\n",
        "                extract_info_from_json(json_file_path, hadm_id_set)\n",
        "                # Print a separator after processing each file\n",
        "                print(\"=\" * 50)\n",
        "\n",
        "    # Print the count of unique hadm_id values\n",
        "    print(\"Total unique hadm_id count:\", len(hadm_id_set))\n",
        "\n",
        "    # # Write extracted information to CSV file\n",
        "    # write_to_csv(extracted_texts)\n"
      ]
    },
    {
      "cell_type": "code",
      "source": [
        "# def write_to_csv(data):\n",
        "#     # Specify the path for the CSV file\n",
        "#     csv_file_path = \"extracted_info.csv\"\n",
        "\n",
        "#     # Define the field names for the CSV file\n",
        "#     fieldnames = ['hadm_id', 'note_id', 'category', 'description', 'begin', 'end', 'code', 'system', 'description','covered_text', 'text']\n",
        "\n",
        "#     # Write data to the CSV file\n",
        "#     with open(csv_file_path, mode='w', newline='', encoding='utf-8') as file:\n",
        "#         writer = csv.DictWriter(file, fieldnames=fieldnames)\n",
        "#         writer.writeheader()\n",
        "#         for item in data:\n",
        "#             writer.writerow(item)"
      ],
      "metadata": {
        "id": "WMlUD2EuHkPW"
      },
      "execution_count": 43,
      "outputs": []
    },
    {
      "cell_type": "code",
      "execution_count": null,
      "metadata": {
        "colab": {
          "base_uri": "https://localhost:8080/"
        },
        "id": "WJ1mL_x2KenJ",
        "outputId": "fc9328be-fcbd-4851-aa4b-df5ba4e620e8"
      },
      "outputs": [
        {
          "output_type": "stream",
          "name": "stdout",
          "text": [
            "Processing: /content/drive/MyDrive/#medical coding/with_text/gold/Profee/ICD-10/1.0/187213-ICD-10.json\n",
            "==================================================\n",
            "Processing: /content/drive/MyDrive/#medical coding/with_text/gold/Profee/ICD-10/1.0/196522-ICD-10.json\n",
            "==================================================\n",
            "Processing: /content/drive/MyDrive/#medical coding/with_text/gold/Profee/ICD-10/1.0/193800-ICD-10.json\n",
            "==================================================\n",
            "Processing: /content/drive/MyDrive/#medical coding/with_text/gold/Profee/ICD-10/1.0/162131-ICD-10.json\n",
            "==================================================\n",
            "Processing: /content/drive/MyDrive/#medical coding/with_text/gold/Profee/ICD-10/1.0/142289-ICD-10.json\n",
            "==================================================\n",
            "Processing: /content/drive/MyDrive/#medical coding/with_text/gold/Profee/ICD-10/1.0/128511-ICD-10.json\n",
            "==================================================\n",
            "Processing: /content/drive/MyDrive/#medical coding/with_text/gold/Profee/ICD-10/1.0/142321-ICD-10.json\n",
            "==================================================\n",
            "Processing: /content/drive/MyDrive/#medical coding/with_text/gold/Profee/ICD-10/1.0/190860-ICD-10.json\n",
            "==================================================\n",
            "Processing: /content/drive/MyDrive/#medical coding/with_text/gold/Profee/ICD-10/1.0/192435-ICD-10.json\n",
            "==================================================\n",
            "Processing: /content/drive/MyDrive/#medical coding/with_text/gold/Profee/ICD-10/1.0/194532-ICD-10.json\n",
            "==================================================\n",
            "Processing: /content/drive/MyDrive/#medical coding/with_text/gold/Profee/ICD-10/1.0/138984-ICD-10.json\n",
            "==================================================\n",
            "Processing: /content/drive/MyDrive/#medical coding/with_text/gold/Profee/ICD-10/1.0/149623-ICD-10.json\n",
            "==================================================\n",
            "Processing: /content/drive/MyDrive/#medical coding/with_text/gold/Profee/ICD-10/1.0/193430-ICD-10.json\n",
            "==================================================\n",
            "Processing: /content/drive/MyDrive/#medical coding/with_text/gold/Profee/ICD-10/1.0/166418-ICD-10.json\n",
            "==================================================\n",
            "Processing: /content/drive/MyDrive/#medical coding/with_text/gold/Profee/ICD-10/1.0/170648-ICD-10.json\n",
            "==================================================\n",
            "Processing: /content/drive/MyDrive/#medical coding/with_text/gold/Profee/ICD-10/1.0/149802-ICD-10.json\n",
            "==================================================\n",
            "Processing: /content/drive/MyDrive/#medical coding/with_text/gold/Profee/ICD-10/1.0/186386-ICD-10.json\n",
            "==================================================\n",
            "Processing: /content/drive/MyDrive/#medical coding/with_text/gold/Profee/ICD-10/1.0/185789-ICD-10.json\n",
            "==================================================\n",
            "Processing: /content/drive/MyDrive/#medical coding/with_text/gold/Profee/ICD-10/1.0/185654-ICD-10.json\n",
            "==================================================\n",
            "Processing: /content/drive/MyDrive/#medical coding/with_text/gold/Profee/ICD-10/1.0/151973-ICD-10.json\n",
            "==================================================\n",
            "Processing: /content/drive/MyDrive/#medical coding/with_text/gold/Profee/ICD-10/1.0/182380-ICD-10.json\n",
            "==================================================\n",
            "Processing: /content/drive/MyDrive/#medical coding/with_text/gold/Profee/ICD-10/1.0/192679-ICD-10.json\n",
            "==================================================\n",
            "Processing: /content/drive/MyDrive/#medical coding/with_text/gold/Profee/ICD-10/1.0/126677-ICD-10.json\n",
            "==================================================\n",
            "Processing: /content/drive/MyDrive/#medical coding/with_text/gold/Profee/ICD-10/1.0/128096-ICD-10.json\n",
            "==================================================\n",
            "Processing: /content/drive/MyDrive/#medical coding/with_text/gold/Profee/ICD-10/1.0/130026-ICD-10.json\n",
            "==================================================\n",
            "Processing: /content/drive/MyDrive/#medical coding/with_text/gold/Profee/ICD-10/1.0/189255-ICD-10.json\n",
            "==================================================\n",
            "Processing: /content/drive/MyDrive/#medical coding/with_text/gold/Profee/ICD-10/1.0/191630-ICD-10.json\n",
            "==================================================\n",
            "Processing: /content/drive/MyDrive/#medical coding/with_text/gold/Profee/ICD-10/1.0/126300-ICD-10.json\n",
            "==================================================\n",
            "Processing: /content/drive/MyDrive/#medical coding/with_text/gold/Profee/ICD-10/1.0/135479-ICD-10.json\n",
            "==================================================\n",
            "Processing: /content/drive/MyDrive/#medical coding/with_text/gold/Profee/ICD-10/1.0/190480-ICD-10.json\n",
            "==================================================\n",
            "Processing: /content/drive/MyDrive/#medical coding/with_text/gold/Profee/ICD-10/1.0/143547-ICD-10.json\n",
            "==================================================\n",
            "Processing: /content/drive/MyDrive/#medical coding/with_text/gold/Profee/ICD-10/1.0/126586-ICD-10.json\n",
            "==================================================\n",
            "Processing: /content/drive/MyDrive/#medical coding/with_text/gold/Profee/ICD-10/1.0/101525-ICD-10.json\n",
            "==================================================\n",
            "Processing: /content/drive/MyDrive/#medical coding/with_text/gold/Profee/ICD-10/1.0/147983-ICD-10.json\n"
          ]
        }
      ],
      "source": [
        "# Specify the path to the main folder containing subfolders with JSON files\n",
        "main_folder_path = \"/content/drive/MyDrive/#medical coding/with_text/gold\"\n",
        "\n",
        "# Call the search_files function to start searching for JSON files in the main folder and its subfolders\n",
        "search_files(main_folder_path)"
      ]
    },
    {
      "cell_type": "code",
      "source": [
        "# # We can access named entities from 'processed_text' field of each note\n",
        "# for note_info in extracted_texts:\n",
        "#     if 'processed_text' in note_info:\n",
        "#         processed_text = note_info['processed_text']\n",
        "#         for sentence in processed_text.sentences:\n",
        "#             for entity in sentence.ents:\n",
        "#                 print(f\"Entity: {entity.text}\\tType: {entity.type}\")"
      ],
      "metadata": {
        "id": "m2UGvu0ghc9t"
      },
      "execution_count": null,
      "outputs": []
    },
    {
      "cell_type": "code",
      "source": [
        "# Print the first sentence and its associated hadm_id\n",
        "#for note_info in extracted_texts:\n",
        "    #if 'processed_text' in note_info:\n",
        "        #processed_text = note_info['processed_text']\n",
        "        # Extract the first sentence\n",
        "        #first_sentence = processed_text.sentences[0].text\n",
        "        # Print the first sentence and its associated hadm_id\n",
        "        #print(f\"HADM_ID: {note_info['hadm_id']} - First Sentence: {first_sentence}\")\n",
        "        # num_sentences = len(processed_text.sentences)\n",
        "        # print(f\"HADM_ID: {note_info['hadm_id']} - Number of Sentences: {num_sentences}\")"
      ],
      "metadata": {
        "id": "-7o1WboMJ8aA"
      },
      "execution_count": null,
      "outputs": []
    },
    {
      "cell_type": "code",
      "source": [
        "# Calculate total number of sentences\n",
        "total_sentences = sum(note_info['num_sentences'] for note_info in extracted_texts if 'num_sentences' in note_info)\n",
        "\n",
        "# Print total number of sentences\n",
        "print(\"Total number of sentences:\", total_sentences)"
      ],
      "metadata": {
        "id": "wbxp0xDKKtWH"
      },
      "execution_count": null,
      "outputs": []
    },
    {
      "cell_type": "code",
      "source": [
        "pip install transformers"
      ],
      "metadata": {
        "id": "KIt2E7jEki9k"
      },
      "execution_count": null,
      "outputs": []
    },
    {
      "cell_type": "markdown",
      "source": [
        "**Sentence Tokenisation**"
      ],
      "metadata": {
        "id": "5kwlYQ86mA4Z"
      }
    },
    {
      "cell_type": "code",
      "source": [
        "from stanza.utils.conll import CoNLL\n",
        "\n",
        "def tokenize_sentences(doc):\n",
        "\n",
        "    tokenized_sentences = []  # Initialize an empty list to store tokenized sentences\n",
        "    for sentence in doc.sentences:  # Iterate through each sentence in the document\n",
        "        tokens = [token.text for token in sentence.tokens]  # Extract text of each token in the sentence\n",
        "        tokenized_sentences.append(tokens)  # Append the list of tokens to the tokenized_sentences list\n",
        "    return tokenized_sentences  # Return the tokenized sentences\n",
        "\n",
        "# Loop through each note_info in the extracted_texts list\n",
        "for note_info in extracted_texts:\n",
        "    # Check if the 'processed_text' key exists in the current note_info\n",
        "    if 'processed_text' in note_info:\n",
        "        processed_text = note_info['processed_text']  # Extract the processed text from note_info\n",
        "        tokenized_sentences = tokenize_sentences(processed_text)  # Tokenize the sentences in the processed text\n",
        "        note_info['tokenized_sentences'] = tokenized_sentences  # Add the tokenized sentences to note_info\n",
        "\n",
        "# Loop through each note_info in the extracted_texts list\n",
        "for i, note_info in enumerate(extracted_texts):\n",
        "    if i >= 10:  # Stop after processing the first 50 notes\n",
        "        break\n",
        "\n",
        "    # Check if the 'tokenized_sentences' key exists in the current note_info\n",
        "    if 'tokenized_sentences' in note_info:\n",
        "        print(f\"HADM_ID: {note_info['hadm_id']}\")  # Print the HADM_ID\n",
        "        print(f\"Note ID: {note_info['note_id']}\")  # Print the note ID\n",
        "        tokenized_sentences = note_info['tokenized_sentences']  # Extract the tokenized sentences from note_info\n",
        "        # Loop through each sentence_tokens list in the tokenized_sentences list\n",
        "        for sentence_tokens in tokenized_sentences:\n",
        "            print(' '.join(sentence_tokens))  # Print the tokens of each sentence separated by spaces\n",
        "        print()  # Print an empty line after printing all sentences"
      ],
      "metadata": {
        "id": "s66NyjrayoWo"
      },
      "execution_count": null,
      "outputs": []
    },
    {
      "cell_type": "code",
      "source": [
        "# Initialize total word count\n",
        "total_word_count = 0\n",
        "\n",
        "# Loop through each note_info in the extracted_texts list\n",
        "for note_info in extracted_texts:\n",
        "    # Check if the 'tokenized_sentences' key exists in the current note_info\n",
        "    if 'tokenized_sentences' in note_info:\n",
        "        tokenized_sentences = note_info['tokenized_sentences']  # Extract the tokenized sentences from note_info\n",
        "\n",
        "        # Iterate through each sentence_tokens list in the tokenized_sentences list\n",
        "        for sentence_tokens in tokenized_sentences:\n",
        "            # Increment the total word count by the number of words in the current sentence\n",
        "            total_word_count += len(sentence_tokens)\n",
        "\n",
        "# Print the total number of words\n",
        "print(\"Total number of words:\", total_word_count)\n"
      ],
      "metadata": {
        "id": "Du9sc6k-yVAr"
      },
      "execution_count": null,
      "outputs": []
    },
    {
      "cell_type": "markdown",
      "source": [
        "**PART OF SPEECH TAGGING**"
      ],
      "metadata": {
        "id": "fLv7FtAYnVrR"
      }
    },
    {
      "cell_type": "code",
      "source": [],
      "metadata": {
        "id": "KEvt3Za-no_v"
      },
      "execution_count": null,
      "outputs": []
    },
    {
      "cell_type": "markdown",
      "source": [
        "NER DATA FORMAT"
      ],
      "metadata": {
        "id": "QT16LVtQepDH"
      }
    },
    {
      "cell_type": "code",
      "source": [
        "import pandas as pd\n",
        "\n",
        "\n",
        "data = []\n",
        "\n",
        "for note_info in extracted_texts:\n",
        "    if 'tokenized_sentences' in note_info and 'annotations' in note_info:\n",
        "        tokenized_sentences = note_info['tokenized_sentences']\n",
        "        annotations = note_info['annotations']\n",
        "\n",
        "        sentence_id = 0\n",
        "        for sentence_tokens in tokenized_sentences:\n",
        "            words = sentence_tokens\n",
        "            labels = ['O'] * len(words)  # Initialize all labels as 'O' (Outside)\n",
        "\n",
        "            # Match annotations with words in the sentence\n",
        "            for annotation in annotations:\n",
        "                begin = annotation['begin']\n",
        "                end = annotation['end']\n",
        "                code = annotation['code']\n",
        "                covered_text = annotation['covered_text']\n",
        "\n",
        "                # Find the word indices corresponding to the annotation\n",
        "                word_indices = []\n",
        "                for i, word in enumerate(words):\n",
        "                    if covered_text.startswith(word):\n",
        "                        word_indices.append(i)\n",
        "                        covered_text = covered_text[len(word):]\n",
        "                        if not covered_text:\n",
        "                            break\n",
        "\n",
        "                # Update labels for the matched words\n",
        "                for idx in word_indices:\n",
        "                    labels[idx] = f'B-{code}' if idx == word_indices[0] else f'I-{code}'\n",
        "\n",
        "            # Append data for each word in the sentence\n",
        "            for word, label in zip(words, labels):\n",
        "                data.append({'sentence_id': sentence_id, 'words': word, 'labels': label})\n",
        "\n",
        "            sentence_id += 1\n",
        "\n",
        "# Create the DataFrame\n",
        "ner_df = pd.DataFrame(data)"
      ],
      "metadata": {
        "id": "DDNNseCkerr8"
      },
      "execution_count": null,
      "outputs": []
    },
    {
      "cell_type": "code",
      "source": [
        "ner_df.head()"
      ],
      "metadata": {
        "id": "In1zoF9grnHW"
      },
      "execution_count": null,
      "outputs": []
    },
    {
      "cell_type": "code",
      "source": [
        "# Count the occurrences of each unique value in the 'labels' column\n",
        "label_counts = ner_df['labels'].value_counts()\n",
        "\n",
        "# Display the counts\n",
        "print(label_counts)"
      ],
      "metadata": {
        "id": "E0XkWK3Mr_xV"
      },
      "execution_count": null,
      "outputs": []
    },
    {
      "cell_type": "code",
      "source": [
        "# Calculate the total number of evidence words\n",
        "total_evidence_words = total_word_count - label_counts.get('O', 0)\n",
        "\n",
        "# Print the total number of evidence words\n",
        "print(\"Total number of evidence words:\", total_evidence_words)\n"
      ],
      "metadata": {
        "id": "6CvsxQsxs-MW"
      },
      "execution_count": null,
      "outputs": []
    },
    {
      "cell_type": "markdown",
      "source": [
        "EXTRACT EVIDENCE FROM THE JSON FILES"
      ],
      "metadata": {
        "id": "vu7TMDas03h5"
      }
    },
    {
      "cell_type": "code",
      "source": [
        "def search_json_files(folder_path):\n",
        "    # Initialize a list to store all JSON file paths\n",
        "    json_files = []\n",
        "\n",
        "    # Recursively search for JSON files in the folder and its subfolders\n",
        "    for root, dirs, files in os.walk(folder_path):\n",
        "        for file in files:\n",
        "            if file.endswith('.json'):\n",
        "                json_files.append(os.path.join(root, file))\n",
        "\n",
        "    return json_files\n"
      ],
      "metadata": {
        "id": "5KB6ejMJzdId"
      },
      "execution_count": null,
      "outputs": []
    },
    {
      "cell_type": "code",
      "source": [
        "def generate_labels_from_json(json_file):\n",
        "    # Open the JSON file\n",
        "    with open(json_file, 'r') as file:\n",
        "        # Load JSON data from the file\n",
        "        data = json.load(file)\n",
        "\n",
        "        # Extract 'notes' from the JSON data\n",
        "        notes = data.get('notes', [])\n",
        "\n",
        "        # Iterate through each note\n",
        "        for note in notes:\n",
        "            note_text = note.get('text', None)\n",
        "            if note_text:\n",
        "                # Tokenize the note text\n",
        "                tokens = tokenize_text(note_text)\n",
        "\n",
        "                # Extract annotations from the note\n",
        "                annotations = note.get('annotations', [])\n",
        "\n",
        "                # Initialize labels for tokens\n",
        "                labels = ['O'] * len(tokens)\n",
        "\n",
        "                # Match annotations with tokens\n",
        "                for annotation in annotations:\n",
        "                    begin = annotation['begin']\n",
        "                    end = annotation['end']\n",
        "                    code = annotation['code']\n",
        "                    covered_text = annotation['covered_text']\n",
        "\n",
        "                    # Find the token indices corresponding to the annotation\n",
        "                    token_indices = find_token_indices(tokens, begin, end, covered_text)\n",
        "\n",
        "                    # Update labels for the matched tokens\n",
        "                    for idx in token_indices:\n",
        "                        labels[idx] = f'B-{code}' if idx == token_indices[0] else f'I-{code}'\n",
        "\n",
        "                # Create a DataFrame for the current note\n",
        "                note_df = pd.DataFrame({'tokens': tokens, 'labels': labels})\n",
        "\n",
        "                # Append the note DataFrame to a global DataFrame or process it further\n",
        "                # ...\n",
        "\n",
        "def tokenize_text(text):\n",
        "    # Implement text tokenization logic\n",
        "    # Extract tokens using list comprehension\n",
        "    tokens = [word.text for sentence in doc.sentences for word in sentence.words]\n",
        "    return tokens\n",
        "\n",
        "def find_token_indices(tokens, begin, end, covered_text):\n",
        "    token_indices = []\n",
        "    start_idx = 0\n",
        "    end_idx = 0\n",
        "    for i, token in enumerate(tokens):\n",
        "        end_idx += len(token)\n",
        "        if start_idx >= begin and end_idx <= end:\n",
        "            token_indices.append(i)\n",
        "        start_idx = end_idx + 1\n",
        "    return token_indices"
      ],
      "metadata": {
        "id": "aP4Gwjbd1FPr"
      },
      "execution_count": null,
      "outputs": []
    },
    {
      "cell_type": "code",
      "source": [
        "# Spath to the main folder containing subfolders with JSON files\n",
        "main_folder_path = \"/content/drive/MyDrive/#medical coding/with_text/gold\"\n",
        "\n",
        "# Search for JSON files in the main folder and its subfolders\n",
        "json_files = search_json_files(main_folder_path)\n",
        "\n",
        "# Iterate through each JSON file and generate labels for tokens\n",
        "for json_file in json_files:\n",
        "    print(f\"Processing {json_file}...\")\n",
        "    generate_labels_from_json(json_file)\n"
      ],
      "metadata": {
        "id": "W4woQUMW1IPM"
      },
      "execution_count": null,
      "outputs": []
    },
    {
      "cell_type": "markdown",
      "source": [],
      "metadata": {
        "id": "LQ5Ug80H1HTx"
      }
    }
  ],
  "metadata": {
    "kernelspec": {
      "display_name": "Python 3",
      "name": "python3"
    },
    "language_info": {
      "codemirror_mode": {
        "name": "ipython",
        "version": 3
      },
      "file_extension": ".py",
      "mimetype": "text/x-python",
      "name": "python",
      "nbconvert_exporter": "python",
      "pygments_lexer": "ipython3",
      "version": "3.12.2"
    },
    "colab": {
      "provenance": [],
      "machine_shape": "hm",
      "gpuType": "T4",
      "include_colab_link": true
    },
    "accelerator": "GPU",
    "widgets": {
      "application/vnd.jupyter.widget-state+json": {
        "b13e3bd0453a4a429abecda2853663fb": {
          "model_module": "@jupyter-widgets/controls",
          "model_name": "HBoxModel",
          "model_module_version": "1.5.0",
          "state": {
            "_dom_classes": [],
            "_model_module": "@jupyter-widgets/controls",
            "_model_module_version": "1.5.0",
            "_model_name": "HBoxModel",
            "_view_count": null,
            "_view_module": "@jupyter-widgets/controls",
            "_view_module_version": "1.5.0",
            "_view_name": "HBoxView",
            "box_style": "",
            "children": [
              "IPY_MODEL_75028536d3d14304bcc3c059a206a123",
              "IPY_MODEL_e4950724074b46a3bbc0ab522935ea83",
              "IPY_MODEL_38336c8d6cc24c8aa820a69de7f474cd"
            ],
            "layout": "IPY_MODEL_a79457a6a3af431fb93c95ee7df12dd4"
          }
        },
        "75028536d3d14304bcc3c059a206a123": {
          "model_module": "@jupyter-widgets/controls",
          "model_name": "HTMLModel",
          "model_module_version": "1.5.0",
          "state": {
            "_dom_classes": [],
            "_model_module": "@jupyter-widgets/controls",
            "_model_module_version": "1.5.0",
            "_model_name": "HTMLModel",
            "_view_count": null,
            "_view_module": "@jupyter-widgets/controls",
            "_view_module_version": "1.5.0",
            "_view_name": "HTMLView",
            "description": "",
            "description_tooltip": null,
            "layout": "IPY_MODEL_16a5a429b112473cbb101159bd672d81",
            "placeholder": "​",
            "style": "IPY_MODEL_7eb16d3e29f9411eae3f0fb4177ddde7",
            "value": "Downloading https://raw.githubusercontent.com/stanfordnlp/stanza-resources/main/resources_1.8.0.json: "
          }
        },
        "e4950724074b46a3bbc0ab522935ea83": {
          "model_module": "@jupyter-widgets/controls",
          "model_name": "FloatProgressModel",
          "model_module_version": "1.5.0",
          "state": {
            "_dom_classes": [],
            "_model_module": "@jupyter-widgets/controls",
            "_model_module_version": "1.5.0",
            "_model_name": "FloatProgressModel",
            "_view_count": null,
            "_view_module": "@jupyter-widgets/controls",
            "_view_module_version": "1.5.0",
            "_view_name": "ProgressView",
            "bar_style": "success",
            "description": "",
            "description_tooltip": null,
            "layout": "IPY_MODEL_9a1c68c3628d4e8d9aef72409ba935fa",
            "max": 46416,
            "min": 0,
            "orientation": "horizontal",
            "style": "IPY_MODEL_8f4ea965c2d44d808726708ef7364d46",
            "value": 46416
          }
        },
        "38336c8d6cc24c8aa820a69de7f474cd": {
          "model_module": "@jupyter-widgets/controls",
          "model_name": "HTMLModel",
          "model_module_version": "1.5.0",
          "state": {
            "_dom_classes": [],
            "_model_module": "@jupyter-widgets/controls",
            "_model_module_version": "1.5.0",
            "_model_name": "HTMLModel",
            "_view_count": null,
            "_view_module": "@jupyter-widgets/controls",
            "_view_module_version": "1.5.0",
            "_view_name": "HTMLView",
            "description": "",
            "description_tooltip": null,
            "layout": "IPY_MODEL_8cff39df9e9c4bfea291eae3b9709eef",
            "placeholder": "​",
            "style": "IPY_MODEL_2afa5f28dc7b422aa94060c0ae37265e",
            "value": " 373k/? [00:00&lt;00:00, 6.70MB/s]"
          }
        },
        "a79457a6a3af431fb93c95ee7df12dd4": {
          "model_module": "@jupyter-widgets/base",
          "model_name": "LayoutModel",
          "model_module_version": "1.2.0",
          "state": {
            "_model_module": "@jupyter-widgets/base",
            "_model_module_version": "1.2.0",
            "_model_name": "LayoutModel",
            "_view_count": null,
            "_view_module": "@jupyter-widgets/base",
            "_view_module_version": "1.2.0",
            "_view_name": "LayoutView",
            "align_content": null,
            "align_items": null,
            "align_self": null,
            "border": null,
            "bottom": null,
            "display": null,
            "flex": null,
            "flex_flow": null,
            "grid_area": null,
            "grid_auto_columns": null,
            "grid_auto_flow": null,
            "grid_auto_rows": null,
            "grid_column": null,
            "grid_gap": null,
            "grid_row": null,
            "grid_template_areas": null,
            "grid_template_columns": null,
            "grid_template_rows": null,
            "height": null,
            "justify_content": null,
            "justify_items": null,
            "left": null,
            "margin": null,
            "max_height": null,
            "max_width": null,
            "min_height": null,
            "min_width": null,
            "object_fit": null,
            "object_position": null,
            "order": null,
            "overflow": null,
            "overflow_x": null,
            "overflow_y": null,
            "padding": null,
            "right": null,
            "top": null,
            "visibility": null,
            "width": null
          }
        },
        "16a5a429b112473cbb101159bd672d81": {
          "model_module": "@jupyter-widgets/base",
          "model_name": "LayoutModel",
          "model_module_version": "1.2.0",
          "state": {
            "_model_module": "@jupyter-widgets/base",
            "_model_module_version": "1.2.0",
            "_model_name": "LayoutModel",
            "_view_count": null,
            "_view_module": "@jupyter-widgets/base",
            "_view_module_version": "1.2.0",
            "_view_name": "LayoutView",
            "align_content": null,
            "align_items": null,
            "align_self": null,
            "border": null,
            "bottom": null,
            "display": null,
            "flex": null,
            "flex_flow": null,
            "grid_area": null,
            "grid_auto_columns": null,
            "grid_auto_flow": null,
            "grid_auto_rows": null,
            "grid_column": null,
            "grid_gap": null,
            "grid_row": null,
            "grid_template_areas": null,
            "grid_template_columns": null,
            "grid_template_rows": null,
            "height": null,
            "justify_content": null,
            "justify_items": null,
            "left": null,
            "margin": null,
            "max_height": null,
            "max_width": null,
            "min_height": null,
            "min_width": null,
            "object_fit": null,
            "object_position": null,
            "order": null,
            "overflow": null,
            "overflow_x": null,
            "overflow_y": null,
            "padding": null,
            "right": null,
            "top": null,
            "visibility": null,
            "width": null
          }
        },
        "7eb16d3e29f9411eae3f0fb4177ddde7": {
          "model_module": "@jupyter-widgets/controls",
          "model_name": "DescriptionStyleModel",
          "model_module_version": "1.5.0",
          "state": {
            "_model_module": "@jupyter-widgets/controls",
            "_model_module_version": "1.5.0",
            "_model_name": "DescriptionStyleModel",
            "_view_count": null,
            "_view_module": "@jupyter-widgets/base",
            "_view_module_version": "1.2.0",
            "_view_name": "StyleView",
            "description_width": ""
          }
        },
        "9a1c68c3628d4e8d9aef72409ba935fa": {
          "model_module": "@jupyter-widgets/base",
          "model_name": "LayoutModel",
          "model_module_version": "1.2.0",
          "state": {
            "_model_module": "@jupyter-widgets/base",
            "_model_module_version": "1.2.0",
            "_model_name": "LayoutModel",
            "_view_count": null,
            "_view_module": "@jupyter-widgets/base",
            "_view_module_version": "1.2.0",
            "_view_name": "LayoutView",
            "align_content": null,
            "align_items": null,
            "align_self": null,
            "border": null,
            "bottom": null,
            "display": null,
            "flex": null,
            "flex_flow": null,
            "grid_area": null,
            "grid_auto_columns": null,
            "grid_auto_flow": null,
            "grid_auto_rows": null,
            "grid_column": null,
            "grid_gap": null,
            "grid_row": null,
            "grid_template_areas": null,
            "grid_template_columns": null,
            "grid_template_rows": null,
            "height": null,
            "justify_content": null,
            "justify_items": null,
            "left": null,
            "margin": null,
            "max_height": null,
            "max_width": null,
            "min_height": null,
            "min_width": null,
            "object_fit": null,
            "object_position": null,
            "order": null,
            "overflow": null,
            "overflow_x": null,
            "overflow_y": null,
            "padding": null,
            "right": null,
            "top": null,
            "visibility": null,
            "width": null
          }
        },
        "8f4ea965c2d44d808726708ef7364d46": {
          "model_module": "@jupyter-widgets/controls",
          "model_name": "ProgressStyleModel",
          "model_module_version": "1.5.0",
          "state": {
            "_model_module": "@jupyter-widgets/controls",
            "_model_module_version": "1.5.0",
            "_model_name": "ProgressStyleModel",
            "_view_count": null,
            "_view_module": "@jupyter-widgets/base",
            "_view_module_version": "1.2.0",
            "_view_name": "StyleView",
            "bar_color": null,
            "description_width": ""
          }
        },
        "8cff39df9e9c4bfea291eae3b9709eef": {
          "model_module": "@jupyter-widgets/base",
          "model_name": "LayoutModel",
          "model_module_version": "1.2.0",
          "state": {
            "_model_module": "@jupyter-widgets/base",
            "_model_module_version": "1.2.0",
            "_model_name": "LayoutModel",
            "_view_count": null,
            "_view_module": "@jupyter-widgets/base",
            "_view_module_version": "1.2.0",
            "_view_name": "LayoutView",
            "align_content": null,
            "align_items": null,
            "align_self": null,
            "border": null,
            "bottom": null,
            "display": null,
            "flex": null,
            "flex_flow": null,
            "grid_area": null,
            "grid_auto_columns": null,
            "grid_auto_flow": null,
            "grid_auto_rows": null,
            "grid_column": null,
            "grid_gap": null,
            "grid_row": null,
            "grid_template_areas": null,
            "grid_template_columns": null,
            "grid_template_rows": null,
            "height": null,
            "justify_content": null,
            "justify_items": null,
            "left": null,
            "margin": null,
            "max_height": null,
            "max_width": null,
            "min_height": null,
            "min_width": null,
            "object_fit": null,
            "object_position": null,
            "order": null,
            "overflow": null,
            "overflow_x": null,
            "overflow_y": null,
            "padding": null,
            "right": null,
            "top": null,
            "visibility": null,
            "width": null
          }
        },
        "2afa5f28dc7b422aa94060c0ae37265e": {
          "model_module": "@jupyter-widgets/controls",
          "model_name": "DescriptionStyleModel",
          "model_module_version": "1.5.0",
          "state": {
            "_model_module": "@jupyter-widgets/controls",
            "_model_module_version": "1.5.0",
            "_model_name": "DescriptionStyleModel",
            "_view_count": null,
            "_view_module": "@jupyter-widgets/base",
            "_view_module_version": "1.2.0",
            "_view_name": "StyleView",
            "description_width": ""
          }
        },
        "6e53ecd6fefc42cdaeeee77d000ea935": {
          "model_module": "@jupyter-widgets/controls",
          "model_name": "HBoxModel",
          "model_module_version": "1.5.0",
          "state": {
            "_dom_classes": [],
            "_model_module": "@jupyter-widgets/controls",
            "_model_module_version": "1.5.0",
            "_model_name": "HBoxModel",
            "_view_count": null,
            "_view_module": "@jupyter-widgets/controls",
            "_view_module_version": "1.5.0",
            "_view_name": "HBoxView",
            "box_style": "",
            "children": [
              "IPY_MODEL_0157b6e43a56450f8beb6001bb9007c6",
              "IPY_MODEL_730a735595974f63babab685e4329f9f",
              "IPY_MODEL_f980fc71941548bab9964ad922d4aa24"
            ],
            "layout": "IPY_MODEL_2fb582e502d947f2b8a0aef338620068"
          }
        },
        "0157b6e43a56450f8beb6001bb9007c6": {
          "model_module": "@jupyter-widgets/controls",
          "model_name": "HTMLModel",
          "model_module_version": "1.5.0",
          "state": {
            "_dom_classes": [],
            "_model_module": "@jupyter-widgets/controls",
            "_model_module_version": "1.5.0",
            "_model_name": "HTMLModel",
            "_view_count": null,
            "_view_module": "@jupyter-widgets/controls",
            "_view_module_version": "1.5.0",
            "_view_name": "HTMLView",
            "description": "",
            "description_tooltip": null,
            "layout": "IPY_MODEL_5d873602854843fb9d9f09de7a3d8c7e",
            "placeholder": "​",
            "style": "IPY_MODEL_6258aafb1c504f6bb624eeab147bb455",
            "value": "Downloading https://raw.githubusercontent.com/stanfordnlp/stanza-resources/main/resources_1.8.0.json: "
          }
        },
        "730a735595974f63babab685e4329f9f": {
          "model_module": "@jupyter-widgets/controls",
          "model_name": "FloatProgressModel",
          "model_module_version": "1.5.0",
          "state": {
            "_dom_classes": [],
            "_model_module": "@jupyter-widgets/controls",
            "_model_module_version": "1.5.0",
            "_model_name": "FloatProgressModel",
            "_view_count": null,
            "_view_module": "@jupyter-widgets/controls",
            "_view_module_version": "1.5.0",
            "_view_name": "ProgressView",
            "bar_style": "success",
            "description": "",
            "description_tooltip": null,
            "layout": "IPY_MODEL_a751d0c152854dc7b23dc0a29ffdae77",
            "max": 46416,
            "min": 0,
            "orientation": "horizontal",
            "style": "IPY_MODEL_94d821d5c77945d88ad9a3001a572e13",
            "value": 46416
          }
        },
        "f980fc71941548bab9964ad922d4aa24": {
          "model_module": "@jupyter-widgets/controls",
          "model_name": "HTMLModel",
          "model_module_version": "1.5.0",
          "state": {
            "_dom_classes": [],
            "_model_module": "@jupyter-widgets/controls",
            "_model_module_version": "1.5.0",
            "_model_name": "HTMLModel",
            "_view_count": null,
            "_view_module": "@jupyter-widgets/controls",
            "_view_module_version": "1.5.0",
            "_view_name": "HTMLView",
            "description": "",
            "description_tooltip": null,
            "layout": "IPY_MODEL_75df70ba8fc24edda29d796d0fe3d507",
            "placeholder": "​",
            "style": "IPY_MODEL_70bc78c5b9534d7d98475e75dc7f6ddf",
            "value": " 373k/? [00:00&lt;00:00, 7.63MB/s]"
          }
        },
        "2fb582e502d947f2b8a0aef338620068": {
          "model_module": "@jupyter-widgets/base",
          "model_name": "LayoutModel",
          "model_module_version": "1.2.0",
          "state": {
            "_model_module": "@jupyter-widgets/base",
            "_model_module_version": "1.2.0",
            "_model_name": "LayoutModel",
            "_view_count": null,
            "_view_module": "@jupyter-widgets/base",
            "_view_module_version": "1.2.0",
            "_view_name": "LayoutView",
            "align_content": null,
            "align_items": null,
            "align_self": null,
            "border": null,
            "bottom": null,
            "display": null,
            "flex": null,
            "flex_flow": null,
            "grid_area": null,
            "grid_auto_columns": null,
            "grid_auto_flow": null,
            "grid_auto_rows": null,
            "grid_column": null,
            "grid_gap": null,
            "grid_row": null,
            "grid_template_areas": null,
            "grid_template_columns": null,
            "grid_template_rows": null,
            "height": null,
            "justify_content": null,
            "justify_items": null,
            "left": null,
            "margin": null,
            "max_height": null,
            "max_width": null,
            "min_height": null,
            "min_width": null,
            "object_fit": null,
            "object_position": null,
            "order": null,
            "overflow": null,
            "overflow_x": null,
            "overflow_y": null,
            "padding": null,
            "right": null,
            "top": null,
            "visibility": null,
            "width": null
          }
        },
        "5d873602854843fb9d9f09de7a3d8c7e": {
          "model_module": "@jupyter-widgets/base",
          "model_name": "LayoutModel",
          "model_module_version": "1.2.0",
          "state": {
            "_model_module": "@jupyter-widgets/base",
            "_model_module_version": "1.2.0",
            "_model_name": "LayoutModel",
            "_view_count": null,
            "_view_module": "@jupyter-widgets/base",
            "_view_module_version": "1.2.0",
            "_view_name": "LayoutView",
            "align_content": null,
            "align_items": null,
            "align_self": null,
            "border": null,
            "bottom": null,
            "display": null,
            "flex": null,
            "flex_flow": null,
            "grid_area": null,
            "grid_auto_columns": null,
            "grid_auto_flow": null,
            "grid_auto_rows": null,
            "grid_column": null,
            "grid_gap": null,
            "grid_row": null,
            "grid_template_areas": null,
            "grid_template_columns": null,
            "grid_template_rows": null,
            "height": null,
            "justify_content": null,
            "justify_items": null,
            "left": null,
            "margin": null,
            "max_height": null,
            "max_width": null,
            "min_height": null,
            "min_width": null,
            "object_fit": null,
            "object_position": null,
            "order": null,
            "overflow": null,
            "overflow_x": null,
            "overflow_y": null,
            "padding": null,
            "right": null,
            "top": null,
            "visibility": null,
            "width": null
          }
        },
        "6258aafb1c504f6bb624eeab147bb455": {
          "model_module": "@jupyter-widgets/controls",
          "model_name": "DescriptionStyleModel",
          "model_module_version": "1.5.0",
          "state": {
            "_model_module": "@jupyter-widgets/controls",
            "_model_module_version": "1.5.0",
            "_model_name": "DescriptionStyleModel",
            "_view_count": null,
            "_view_module": "@jupyter-widgets/base",
            "_view_module_version": "1.2.0",
            "_view_name": "StyleView",
            "description_width": ""
          }
        },
        "a751d0c152854dc7b23dc0a29ffdae77": {
          "model_module": "@jupyter-widgets/base",
          "model_name": "LayoutModel",
          "model_module_version": "1.2.0",
          "state": {
            "_model_module": "@jupyter-widgets/base",
            "_model_module_version": "1.2.0",
            "_model_name": "LayoutModel",
            "_view_count": null,
            "_view_module": "@jupyter-widgets/base",
            "_view_module_version": "1.2.0",
            "_view_name": "LayoutView",
            "align_content": null,
            "align_items": null,
            "align_self": null,
            "border": null,
            "bottom": null,
            "display": null,
            "flex": null,
            "flex_flow": null,
            "grid_area": null,
            "grid_auto_columns": null,
            "grid_auto_flow": null,
            "grid_auto_rows": null,
            "grid_column": null,
            "grid_gap": null,
            "grid_row": null,
            "grid_template_areas": null,
            "grid_template_columns": null,
            "grid_template_rows": null,
            "height": null,
            "justify_content": null,
            "justify_items": null,
            "left": null,
            "margin": null,
            "max_height": null,
            "max_width": null,
            "min_height": null,
            "min_width": null,
            "object_fit": null,
            "object_position": null,
            "order": null,
            "overflow": null,
            "overflow_x": null,
            "overflow_y": null,
            "padding": null,
            "right": null,
            "top": null,
            "visibility": null,
            "width": null
          }
        },
        "94d821d5c77945d88ad9a3001a572e13": {
          "model_module": "@jupyter-widgets/controls",
          "model_name": "ProgressStyleModel",
          "model_module_version": "1.5.0",
          "state": {
            "_model_module": "@jupyter-widgets/controls",
            "_model_module_version": "1.5.0",
            "_model_name": "ProgressStyleModel",
            "_view_count": null,
            "_view_module": "@jupyter-widgets/base",
            "_view_module_version": "1.2.0",
            "_view_name": "StyleView",
            "bar_color": null,
            "description_width": ""
          }
        },
        "75df70ba8fc24edda29d796d0fe3d507": {
          "model_module": "@jupyter-widgets/base",
          "model_name": "LayoutModel",
          "model_module_version": "1.2.0",
          "state": {
            "_model_module": "@jupyter-widgets/base",
            "_model_module_version": "1.2.0",
            "_model_name": "LayoutModel",
            "_view_count": null,
            "_view_module": "@jupyter-widgets/base",
            "_view_module_version": "1.2.0",
            "_view_name": "LayoutView",
            "align_content": null,
            "align_items": null,
            "align_self": null,
            "border": null,
            "bottom": null,
            "display": null,
            "flex": null,
            "flex_flow": null,
            "grid_area": null,
            "grid_auto_columns": null,
            "grid_auto_flow": null,
            "grid_auto_rows": null,
            "grid_column": null,
            "grid_gap": null,
            "grid_row": null,
            "grid_template_areas": null,
            "grid_template_columns": null,
            "grid_template_rows": null,
            "height": null,
            "justify_content": null,
            "justify_items": null,
            "left": null,
            "margin": null,
            "max_height": null,
            "max_width": null,
            "min_height": null,
            "min_width": null,
            "object_fit": null,
            "object_position": null,
            "order": null,
            "overflow": null,
            "overflow_x": null,
            "overflow_y": null,
            "padding": null,
            "right": null,
            "top": null,
            "visibility": null,
            "width": null
          }
        },
        "70bc78c5b9534d7d98475e75dc7f6ddf": {
          "model_module": "@jupyter-widgets/controls",
          "model_name": "DescriptionStyleModel",
          "model_module_version": "1.5.0",
          "state": {
            "_model_module": "@jupyter-widgets/controls",
            "_model_module_version": "1.5.0",
            "_model_name": "DescriptionStyleModel",
            "_view_count": null,
            "_view_module": "@jupyter-widgets/base",
            "_view_module_version": "1.2.0",
            "_view_name": "StyleView",
            "description_width": ""
          }
        }
      }
    }
  },
  "nbformat": 4,
  "nbformat_minor": 0
}