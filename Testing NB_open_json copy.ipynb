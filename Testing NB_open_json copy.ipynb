{
  "cells": [
    {
      "cell_type": "code",
      "execution_count": null,
      "metadata": {
        "colab": {
          "base_uri": "https://localhost:8080/"
        },
        "id": "c9cY0O3UfyLk",
        "outputId": "5ec278b7-687b-4caf-d2c5-51d6cf045998"
      },
      "outputs": [],
      "source": [
        "#pip install stanza"
      ]
    },
    {
      "cell_type": "code",
      "execution_count": 1,
      "metadata": {
        "colab": {
          "base_uri": "https://localhost:8080/",
          "height": 535,
          "referenced_widgets": [
            "8bc3119d5cd9471a9531106a96571f97",
            "01f397507e4a4061802d45ca0fadc46a",
            "a707a5efd5964ae2b077396c3d6c5514",
            "15ff4550a69241d282c78a6ac151dbe5",
            "d129569144844c7790893e85beedc84e",
            "5b50c5f70e2148139ed707cc534bf6d0",
            "902905407e0b453baaee1513493a20e9",
            "8ec9b28ec35647ccaf43e790a54e1610",
            "6f9bda2858e7415495b27d5a1bbba591",
            "0b6deb1bbc624680b8a8c72a37a8a79d",
            "87b0e9c5edbd41f69de1c8faa97efece",
            "ebf6c947ad664fbf98f76f1b60bd7caf",
            "6eea5bbd46964742b0b5b7f8f30cc0d9",
            "865eea18e0344fd8b8806d61b76680cb",
            "166ae080572b49f79881980db4a6d957",
            "44ecb10a3c174ed8a7e641f9079c5881",
            "14027a2083924e10b3ea0771d1e84bc3",
            "8545f70259bf4646bdb2bfc8862379ec",
            "26677c45164d4e178a9f812f45c2c770",
            "968e14591f05492491fde1a3a5d206de",
            "ab3627b2bbf9499fa89f512b75411428",
            "867772d364234215a50f2f806ab8f0a8"
          ]
        },
        "id": "XeBjbnkrKenD",
        "outputId": "1ec1bd5d-adbd-47cd-8ba0-19aacaf97f4b"
      },
      "outputs": [
        {
          "name": "stderr",
          "output_type": "stream",
          "text": [
            "C:\\Users\\okechukwu chude\\AppData\\Local\\Packages\\PythonSoftwareFoundation.Python.3.12_qbz5n2kfra8p0\\LocalCache\\local-packages\\Python312\\site-packages\\tqdm\\auto.py:21: TqdmWarning: IProgress not found. Please update jupyter and ipywidgets. See https://ipywidgets.readthedocs.io/en/stable/user_install.html\n",
            "  from .autonotebook import tqdm as notebook_tqdm\n",
            "Downloading https://raw.githubusercontent.com/stanfordnlp/stanza-resources/main/resources_1.8.0.json: 373kB [00:00, 2.92MB/s]                    \n",
            "2024-03-12 14:48:01 INFO: Downloaded file to C:\\Users\\okechukwu chude\\stanza_resources\\resources.json\n",
            "2024-03-12 14:48:01 INFO: Downloading default packages for language: en (English) ...\n",
            "2024-03-12 14:48:03 INFO: File exists: C:\\Users\\okechukwu chude\\stanza_resources\\en\\default.zip\n",
            "2024-03-12 14:48:06 INFO: Finished downloading models and saved to C:\\Users\\okechukwu chude\\stanza_resources\n",
            "2024-03-12 14:48:06 INFO: Checking for updates to resources.json in case models have been updated.  Note: this behavior can be turned off with download_method=None or download_method=DownloadMethod.REUSE_RESOURCES\n",
            "Downloading https://raw.githubusercontent.com/stanfordnlp/stanza-resources/main/resources_1.8.0.json: 373kB [00:00, 1.86MB/s]                    \n",
            "2024-03-12 14:48:07 INFO: Downloaded file to C:\\Users\\okechukwu chude\\stanza_resources\\resources.json\n",
            "2024-03-12 14:48:07 WARNING: Language en package default expects mwt, which has been added\n",
            "2024-03-12 14:48:07 WARNING: Can not find ner: ontonotes from official model list. Ignoring it.\n",
            "2024-03-12 14:48:08 INFO: Loading these models for language: en (English):\n",
            "=================================\n",
            "| Processor | Package           |\n",
            "---------------------------------\n",
            "| tokenize  | combined          |\n",
            "| mwt       | combined          |\n",
            "| pos       | combined_charlm   |\n",
            "| lemma     | combined_nocharlm |\n",
            "| ner       | ncbi_disease      |\n",
            "=================================\n",
            "\n",
            "2024-03-12 14:48:08 INFO: Using device: cpu\n",
            "2024-03-12 14:48:08 INFO: Loading: tokenize\n",
            "2024-03-12 14:48:09 INFO: Loading: mwt\n",
            "2024-03-12 14:48:09 INFO: Loading: pos\n",
            "2024-03-12 14:48:10 INFO: Loading: lemma\n",
            "2024-03-12 14:48:10 INFO: Loading: ner\n",
            "2024-03-12 14:48:11 INFO: Done loading processors!\n"
          ]
        }
      ],
      "source": [
        "import os\n",
        "import json\n",
        "import stanza\n",
        "import csv\n",
        "\n",
        "# Build an English pipeline\n",
        "stanza.download('en') # download English model\n",
        "nlp = stanza.Pipeline('en', processors='tokenize,pos,lemma,ner', package={\"ner\": [\"ncbi_disease\", \"ontonotes\"]}) # initialize English neural pipeline"
      ]
    },
    {
      "cell_type": "code",
      "execution_count": 2,
      "metadata": {
        "id": "zlchODmWssHo"
      },
      "outputs": [],
      "source": [
        "# Global variable to store all extracted texts\n",
        "extracted_texts = []"
      ]
    },
    {
      "cell_type": "code",
      "execution_count": 3,
      "metadata": {
        "id": "MXd91CV8i37H"
      },
      "outputs": [],
      "source": [
        "def process_text_with_stanza(text):\n",
        "    doc = nlp(text)\n",
        "    return doc\n"
      ]
    },
    {
      "cell_type": "code",
      "execution_count": 4,
      "metadata": {
        "id": "FgLHCWCkKenH"
      },
      "outputs": [],
      "source": [
        "def extract_info_from_json(json_file_path, hadm_id_set):\n",
        "    global extracted_texts\n",
        "\n",
        "    # Open the JSON file\n",
        "    with open(json_file_path, 'r') as file:\n",
        "        # Load JSON data from the file\n",
        "        data = json.load(file)\n",
        "\n",
        "        # Extract 'hadm_id' and 'comment' from the JSON data\n",
        "        hadm_id = data.get('hadm_id', None)\n",
        "        comment = data.get('comment', None)\n",
        "\n",
        "        # If 'hadm_id' is not found, print a warning message\n",
        "        if hadm_id is None:\n",
        "            print(f\"Warning: 'hadm_id' not found in {json_file_path}\")\n",
        "            return None\n",
        "\n",
        "        # Add 'hadm_id' to the set\n",
        "        hadm_id_set.add(hadm_id)\n",
        "\n",
        "        # Extract 'notes' from the JSON data\n",
        "        notes = data.get('notes', [])\n",
        "\n",
        "        # Iterate through each note\n",
        "        for note in notes:\n",
        "            note_info = {}  # Initialize a dictionary to store note information\n",
        "\n",
        "            # Add 'hadm_id' to the note information\n",
        "            note_info['hadm_id'] = hadm_id\n",
        "\n",
        "            # Extract information from the note\n",
        "            note_info['note_id'] = note.get('note_id', None)\n",
        "            note_info['category'] = note.get('category', None)\n",
        "            note_info['description'] = note.get('description', None)\n",
        "\n",
        "            # Extract annotations from the note\n",
        "            annotations = note.get('annotations', [])\n",
        "            annotations_info = []  # Initialize a list to store annotation information\n",
        "\n",
        "            # Iterate through each annotation in the note\n",
        "            for annotation in annotations:\n",
        "                annotation_info = {}  # Initialize a dictionary to store annotation information\n",
        "\n",
        "                # Extract information from the annotation\n",
        "                annotation_info['begin'] = annotation.get('begin', None)\n",
        "                annotation_info['end'] = annotation.get('end', None)\n",
        "                annotation_info['code'] = annotation.get('code', None)\n",
        "                annotation_info['code_system'] = annotation.get('code_system', None)\n",
        "                annotation_info['description'] = annotation.get('description', None)\n",
        "                annotation_info['type'] = annotation.get('type', None)\n",
        "                annotation_info['covered_text'] = annotation.get('covered_text', None)\n",
        "\n",
        "                annotations_info.append(annotation_info)  # Append annotation information to the list\n",
        "\n",
        "            note_info['annotations'] = annotations_info  # Add annotations information to the note\n",
        "            note_info['text'] = note.get('text', None)\n",
        "\n",
        "            # Process text with Stanza\n",
        "            if note_info['text']:\n",
        "                processed_text = process_text_with_stanza(note_info['text'])\n",
        "                note_info['processed_text'] = processed_text\n",
        "\n",
        "                # Count number of sentences and store it\n",
        "                num_sentences = len(processed_text.sentences)\n",
        "                note_info['num_sentences'] = num_sentences\n",
        "\n",
        "            extracted_texts.append(note_info)  # Append note information to the global variable"
      ]
    },
    {
      "cell_type": "code",
      "execution_count": 5,
      "metadata": {
        "id": "2S3Lh7OMKenI"
      },
      "outputs": [],
      "source": [
        "def search_files(folder_path):\n",
        "    # Set to store unique hadm_id values\n",
        "    hadm_id_set = set()\n",
        "\n",
        "    # Recursively search for JSON files in the folder and its subfolders\n",
        "    for root, dirs, files in os.walk(folder_path):\n",
        "        for filename in files:\n",
        "            if filename.endswith('.json'):\n",
        "                # Construct the full path to the JSON file\n",
        "                json_file_path = os.path.join(root, filename)\n",
        "                print(\"Processing:\", json_file_path)\n",
        "                # Call extract_info_from_json function to extract information from the JSON file\n",
        "                extract_info_from_json(json_file_path, hadm_id_set)\n",
        "                # Print a separator after processing each file\n",
        "                print(\"=\" * 50)\n",
        "\n",
        "    # Print the count of unique hadm_id values\n",
        "    print(\"Total unique hadm_id count:\", len(hadm_id_set))\n",
        "\n",
        "    # # Write extracted information to CSV file\n",
        "    # write_to_csv(extracted_texts)\n"
      ]
    },
    {
      "cell_type": "code",
      "execution_count": null,
      "metadata": {
        "colab": {
          "base_uri": "https://localhost:8080/",
          "height": 1000
        },
        "id": "WJ1mL_x2KenJ",
        "outputId": "8084167c-b4d1-455b-921e-acb80cd7a039"
      },
      "outputs": [],
      "source": [
        "# Specify the path to the main folder containing subfolders with JSON files\n",
        "main_folder_path = r\"C:\\Users\\okechukwu chude\\Documents\\NLP\\text extraction\\Automating-Medical-Coding\\testing\"\n",
        "\n",
        "# Call the search_files function to start searching for JSON files in the main folder and its subfolders\n",
        "search_files(main_folder_path)"
      ]
    },
    {
      "cell_type": "code",
      "execution_count": null,
      "metadata": {
        "colab": {
          "base_uri": "https://localhost:8080/"
        },
        "id": "wbxp0xDKKtWH",
        "outputId": "30d98bb3-c3dc-40ed-a343-f4f9181f6c82"
      },
      "outputs": [],
      "source": [
        "# Calculate total number of sentences\n",
        "total_sentences = sum(note_info['num_sentences'] for note_info in extracted_texts if 'num_sentences' in note_info)\n",
        "\n",
        "# Print total number of sentences\n",
        "print(\"Total number of sentences:\", total_sentences)"
      ]
    },
    {
      "cell_type": "code",
      "execution_count": null,
      "metadata": {
        "colab": {
          "base_uri": "https://localhost:8080/"
        },
        "id": "KIt2E7jEki9k",
        "outputId": "4205de5b-eb95-4ab2-bf06-eb96b0f67f05"
      },
      "outputs": [],
      "source": [
        "#pip install transformers"
      ]
    },
    {
      "cell_type": "markdown",
      "metadata": {
        "id": "5kwlYQ86mA4Z"
      },
      "source": [
        "**Sentence Tokenisation**"
      ]
    },
    {
      "cell_type": "code",
      "execution_count": null,
      "metadata": {
        "colab": {
          "base_uri": "https://localhost:8080/"
        },
        "id": "s66NyjrayoWo",
        "outputId": "1bdf48aa-9a9d-4477-e9c6-276190b2b68d"
      },
      "outputs": [],
      "source": [
        "from stanza.utils.conll import CoNLL\n",
        "\n",
        "def tokenize_sentences(doc):\n",
        "\n",
        "    tokenized_sentences = []  # Initialize an empty list to store tokenized sentences\n",
        "    for sentence in doc.sentences:  # Iterate through each sentence in the document\n",
        "        tokens = [token.text for token in sentence.tokens]  # Extract text of each token in the sentence\n",
        "        tokenized_sentences.append(tokens)  # Append the list of tokens to the tokenized_sentences list\n",
        "    return tokenized_sentences  # Return the tokenized sentences\n",
        "\n",
        "# Loop through each note_info in the extracted_texts list\n",
        "for note_info in extracted_texts:\n",
        "    # Check if the 'processed_text' key exists in the current note_info\n",
        "    if 'processed_text' in note_info:\n",
        "        processed_text = note_info['processed_text']  # Extract the processed text from note_info\n",
        "        tokenized_sentences = tokenize_sentences(processed_text)  # Tokenize the sentences in the processed text\n",
        "        note_info['tokenized_sentences'] = tokenized_sentences  # Add the tokenized sentences to note_info\n",
        "\n",
        "# Loop through each note_info in the extracted_texts list\n",
        "for i, note_info in enumerate(extracted_texts):\n",
        "    if i >= 10:  # Stop after processing the first 50 notes\n",
        "        break\n",
        "\n",
        "    # Check if the 'tokenized_sentences' key exists in the current note_info\n",
        "    if 'tokenized_sentences' in note_info:\n",
        "        print(f\"HADM_ID: {note_info['hadm_id']}\")  # Print the HADM_ID\n",
        "        print(f\"Note ID: {note_info['note_id']}\")  # Print the note ID\n",
        "        tokenized_sentences = note_info['tokenized_sentences']  # Extract the tokenized sentences from note_info\n",
        "        # Loop through each sentence_tokens list in the tokenized_sentences list\n",
        "        for sentence_tokens in tokenized_sentences:\n",
        "            print(' '.join(sentence_tokens))  # Print the tokens of each sentence separated by spaces\n",
        "        print()  # Print an empty line after printing all sentences"
      ]
    },
    {
      "cell_type": "code",
      "execution_count": null,
      "metadata": {
        "colab": {
          "base_uri": "https://localhost:8080/"
        },
        "id": "Du9sc6k-yVAr",
        "outputId": "37405194-9ddb-4ba8-b71f-9428b828813f"
      },
      "outputs": [],
      "source": [
        "# Initialize total word count\n",
        "total_word_count = 0\n",
        "\n",
        "# Loop through each note_info in the extracted_texts list\n",
        "for note_info in extracted_texts:\n",
        "    # Check if the 'tokenized_sentences' key exists in the current note_info\n",
        "    if 'tokenized_sentences' in note_info:\n",
        "        tokenized_sentences = note_info['tokenized_sentences']  # Extract the tokenized sentences from note_info\n",
        "\n",
        "        # Iterate through each sentence_tokens list in the tokenized_sentences list\n",
        "        for sentence_tokens in tokenized_sentences:\n",
        "            # Increment the total word count by the number of words in the current sentence\n",
        "            total_word_count += len(sentence_tokens)\n",
        "\n",
        "# Print the total number of words\n",
        "print(\"Total number of words:\", total_word_count)\n"
      ]
    },
    {
      "cell_type": "markdown",
      "metadata": {
        "id": "fLv7FtAYnVrR"
      },
      "source": [
        "**PART OF SPEECH TAGGING**"
      ]
    },
    {
      "cell_type": "code",
      "execution_count": null,
      "metadata": {
        "id": "KEvt3Za-no_v"
      },
      "outputs": [],
      "source": []
    },
    {
      "cell_type": "markdown",
      "metadata": {
        "id": "QT16LVtQepDH"
      },
      "source": [
        "NER DATA FORMAT"
      ]
    },
    {
      "cell_type": "code",
      "execution_count": null,
      "metadata": {
        "id": "DDNNseCkerr8"
      },
      "outputs": [],
      "source": [
        "import pandas as pd\n",
        "\n",
        "\n",
        "data = []\n",
        "\n",
        "for note_info in extracted_texts:\n",
        "    if 'tokenized_sentences' in note_info and 'annotations' in note_info:\n",
        "        tokenized_sentences = note_info['tokenized_sentences']\n",
        "        annotations = note_info['annotations']\n",
        "\n",
        "        sentence_id = 0\n",
        "        for sentence_tokens in tokenized_sentences:\n",
        "            words = sentence_tokens\n",
        "            labels = ['O'] * len(words)  # Initialize all labels as 'O' (Outside)\n",
        "\n",
        "            # Match annotations with words in the sentence\n",
        "            for annotation in annotations:\n",
        "                begin = annotation['begin']\n",
        "                end = annotation['end']\n",
        "                code = annotation['code']\n",
        "                covered_text = annotation['covered_text']\n",
        "\n",
        "                # Find the word indices corresponding to the annotation\n",
        "                word_indices = []\n",
        "                for i, word in enumerate(words):\n",
        "                    if covered_text.startswith(word):\n",
        "                        word_indices.append(i)\n",
        "                        covered_text = covered_text[len(word):]\n",
        "                        if not covered_text:\n",
        "                            break\n",
        "\n",
        "                # Update labels for the matched words\n",
        "                for idx in word_indices:\n",
        "                    labels[idx] = f'B-{code}' if idx == word_indices[0] else f'I-{code}'\n",
        "\n",
        "            # Append data for each word in the sentence\n",
        "            for word, label in zip(words, labels):\n",
        "                data.append({'sentence_id': sentence_id, 'words': word, 'labels': label})\n",
        "\n",
        "            sentence_id += 1\n",
        "\n",
        "# Create the DataFrame\n",
        "ner_df = pd.DataFrame(data)"
      ]
    },
    {
      "cell_type": "code",
      "execution_count": null,
      "metadata": {
        "colab": {
          "base_uri": "https://localhost:8080/",
          "height": 206
        },
        "id": "In1zoF9grnHW",
        "outputId": "69e822af-963f-455a-e644-1ba66da38c41"
      },
      "outputs": [],
      "source": [
        "ner_df.head()"
      ]
    },
    {
      "cell_type": "code",
      "execution_count": null,
      "metadata": {
        "colab": {
          "base_uri": "https://localhost:8080/"
        },
        "id": "E0XkWK3Mr_xV",
        "outputId": "4bccc594-e582-410f-b1a3-2301aaef902a"
      },
      "outputs": [],
      "source": [
        "# Count the occurrences of each unique value in the 'labels' column\n",
        "label_counts = ner_df['labels'].value_counts()\n",
        "\n",
        "# Display the counts\n",
        "print(label_counts)"
      ]
    },
    {
      "cell_type": "code",
      "execution_count": null,
      "metadata": {
        "colab": {
          "base_uri": "https://localhost:8080/"
        },
        "id": "6CvsxQsxs-MW",
        "outputId": "e06b3b54-8f4c-45a9-8eaa-3a00edb4eda3"
      },
      "outputs": [],
      "source": [
        "# Calculate the total number of evidence words\n",
        "total_evidence_words = total_word_count - label_counts.get('O', 0)\n",
        "\n",
        "# Print the total number of evidence words\n",
        "print(\"Total number of evidence words:\", total_evidence_words)\n"
      ]
    },
    {
      "cell_type": "markdown",
      "metadata": {
        "id": "vu7TMDas03h5"
      },
      "source": [
        "EXTRACT EVIDENCE FROM THE JSON FILES"
      ]
    },
    {
      "cell_type": "code",
      "execution_count": null,
      "metadata": {
        "id": "5KB6ejMJzdId"
      },
      "outputs": [],
      "source": [
        "def search_json_files(folder_path):\n",
        "    # Initialize a list to store all JSON file paths\n",
        "    json_files = []\n",
        "\n",
        "    # Recursively search for JSON files in the folder and its subfolders\n",
        "    for root, dirs, files in os.walk(folder_path):\n",
        "        for file in files:\n",
        "            if file.endswith('.json'):\n",
        "                json_files.append(os.path.join(root, file))\n",
        "\n",
        "    return json_files\n"
      ]
    },
    {
      "cell_type": "code",
      "execution_count": null,
      "metadata": {},
      "outputs": [],
      "source": [
        "# # Initialize a global notes DataFrame\n",
        "# global_df = pd.DataFrame()"
      ]
    },
    {
      "cell_type": "code",
      "execution_count": null,
      "metadata": {
        "id": "aP4Gwjbd1FPr"
      },
      "outputs": [],
      "source": [
        "def generate_labels_from_json(json_file):\n",
        "    # Open the JSON file\n",
        "    with open(json_file, 'r') as file:\n",
        "        # Load JSON data from the file\n",
        "        data = json.load(file)\n",
        "\n",
        "        # Extract 'notes' from the JSON data\n",
        "        notes = data.get('notes', [])\n",
        "\n",
        "        # Iterate through each note\n",
        "        for note in notes:\n",
        "            note_text = note.get('text', None)\n",
        "            if note_text:\n",
        "                # Tokenize the note text\n",
        "                tokens = tokenize_text(note_text)\n",
        "\n",
        "                # Extract annotations from the note\n",
        "                annotations = note.get('annotations', [])\n",
        "\n",
        "                # Initialize labels for tokens\n",
        "                labels = ['O'] * len(tokens)\n",
        "\n",
        "                # Match annotations with tokens\n",
        "                for annotation in annotations:\n",
        "                    begin = annotation['begin']\n",
        "                    end = annotation['end']\n",
        "                    code = annotation['code']\n",
        "                    covered_text = annotation['covered_text']\n",
        "\n",
        "                    # Find the token indices corresponding to the annotation\n",
        "                    token_indices = find_token_indices(tokens, begin, end, covered_text)\n",
        "\n",
        "                    # Update labels for the matched tokens\n",
        "                    for idx in token_indices:\n",
        "                        labels[idx] = f'B-{code}' if idx == token_indices[0] else f'I-{code}'\n",
        "\n"
      ]
    },
    {
      "cell_type": "code",
      "execution_count": null,
      "metadata": {},
      "outputs": [],
      "source": [
        "def tokenize_text(text):\n",
        "    # Process the text with the initialized pipeline\n",
        "    doc = nlp(text)\n",
        "    # Extract tokens from the document\n",
        "    tokens = [word.text for sent in doc.sentences for word in sent.words]\n",
        "    print(doc.ents)\n",
        "\n",
        "    return tokens"
      ]
    },
    {
      "cell_type": "markdown",
      "metadata": {},
      "source": [
        "Tokenization and Sentence Segmentation"
      ]
    },
    {
      "cell_type": "code",
      "execution_count": null,
      "metadata": {},
      "outputs": [],
      "source": [
        "for i, sentence in enumerate(doc.sentences):\n",
        "    print(f'====== Sentence {i+1} tokens =======')\n",
        "    print(*[f'id: {token.id}\\ttext: {token.text}' for token in sentence.tokens], sep='\\n')"
      ]
    },
    {
      "cell_type": "code",
      "execution_count": null,
      "metadata": {
        "colab": {
          "base_uri": "https://localhost:8080/"
        },
        "id": "W4woQUMW1IPM",
        "outputId": "f7d15e79-1eed-416c-8c61-47256a44c30b"
      },
      "outputs": [],
      "source": [
        "# Spath to the main folder containing subfolders with JSON files\n",
        "main_folder_path = r\"C:\\Users\\okechukwu chude\\Documents\\NLP\\text extraction\\Automating-Medical-Coding\\testing\"\n",
        "\n",
        "# Search for JSON files in the main folder and its subfolders\n",
        "json_files = search_json_files(main_folder_path)\n",
        "\n",
        "# Iterate through each JSON file and generate labels for tokens\n",
        "for json_file in json_files:\n",
        "    print(f\"Processing {json_file}...\")\n",
        "    generate_labels_from_json(json_file)\n"
      ]
    },
    {
      "cell_type": "markdown",
      "metadata": {
        "id": "LQ5Ug80H1HTx"
      },
      "source": []
    }
  ],
  "metadata": {
    "accelerator": "GPU",
    "colab": {
      "gpuType": "T4",
      "include_colab_link": true,
      "machine_shape": "hm",
      "provenance": []
    },
    "kernelspec": {
      "display_name": "Python 3",
      "name": "python3"
    },
    "language_info": {
      "codemirror_mode": {
        "name": "ipython",
        "version": 3
      },
      "file_extension": ".py",
      "mimetype": "text/x-python",
      "name": "python",
      "nbconvert_exporter": "python",
      "pygments_lexer": "ipython3",
      "version": "3.12.2"
    },
    "widgets": {
      "application/vnd.jupyter.widget-state+json": {
        "01f397507e4a4061802d45ca0fadc46a": {
          "model_module": "@jupyter-widgets/controls",
          "model_module_version": "1.5.0",
          "model_name": "HTMLModel",
          "state": {
            "_dom_classes": [],
            "_model_module": "@jupyter-widgets/controls",
            "_model_module_version": "1.5.0",
            "_model_name": "HTMLModel",
            "_view_count": null,
            "_view_module": "@jupyter-widgets/controls",
            "_view_module_version": "1.5.0",
            "_view_name": "HTMLView",
            "description": "",
            "description_tooltip": null,
            "layout": "IPY_MODEL_5b50c5f70e2148139ed707cc534bf6d0",
            "placeholder": "​",
            "style": "IPY_MODEL_902905407e0b453baaee1513493a20e9",
            "value": "Downloading https://raw.githubusercontent.com/stanfordnlp/stanza-resources/main/resources_1.8.0.json: "
          }
        },
        "0b6deb1bbc624680b8a8c72a37a8a79d": {
          "model_module": "@jupyter-widgets/base",
          "model_module_version": "1.2.0",
          "model_name": "LayoutModel",
          "state": {
            "_model_module": "@jupyter-widgets/base",
            "_model_module_version": "1.2.0",
            "_model_name": "LayoutModel",
            "_view_count": null,
            "_view_module": "@jupyter-widgets/base",
            "_view_module_version": "1.2.0",
            "_view_name": "LayoutView",
            "align_content": null,
            "align_items": null,
            "align_self": null,
            "border": null,
            "bottom": null,
            "display": null,
            "flex": null,
            "flex_flow": null,
            "grid_area": null,
            "grid_auto_columns": null,
            "grid_auto_flow": null,
            "grid_auto_rows": null,
            "grid_column": null,
            "grid_gap": null,
            "grid_row": null,
            "grid_template_areas": null,
            "grid_template_columns": null,
            "grid_template_rows": null,
            "height": null,
            "justify_content": null,
            "justify_items": null,
            "left": null,
            "margin": null,
            "max_height": null,
            "max_width": null,
            "min_height": null,
            "min_width": null,
            "object_fit": null,
            "object_position": null,
            "order": null,
            "overflow": null,
            "overflow_x": null,
            "overflow_y": null,
            "padding": null,
            "right": null,
            "top": null,
            "visibility": null,
            "width": null
          }
        },
        "14027a2083924e10b3ea0771d1e84bc3": {
          "model_module": "@jupyter-widgets/base",
          "model_module_version": "1.2.0",
          "model_name": "LayoutModel",
          "state": {
            "_model_module": "@jupyter-widgets/base",
            "_model_module_version": "1.2.0",
            "_model_name": "LayoutModel",
            "_view_count": null,
            "_view_module": "@jupyter-widgets/base",
            "_view_module_version": "1.2.0",
            "_view_name": "LayoutView",
            "align_content": null,
            "align_items": null,
            "align_self": null,
            "border": null,
            "bottom": null,
            "display": null,
            "flex": null,
            "flex_flow": null,
            "grid_area": null,
            "grid_auto_columns": null,
            "grid_auto_flow": null,
            "grid_auto_rows": null,
            "grid_column": null,
            "grid_gap": null,
            "grid_row": null,
            "grid_template_areas": null,
            "grid_template_columns": null,
            "grid_template_rows": null,
            "height": null,
            "justify_content": null,
            "justify_items": null,
            "left": null,
            "margin": null,
            "max_height": null,
            "max_width": null,
            "min_height": null,
            "min_width": null,
            "object_fit": null,
            "object_position": null,
            "order": null,
            "overflow": null,
            "overflow_x": null,
            "overflow_y": null,
            "padding": null,
            "right": null,
            "top": null,
            "visibility": null,
            "width": null
          }
        },
        "15ff4550a69241d282c78a6ac151dbe5": {
          "model_module": "@jupyter-widgets/controls",
          "model_module_version": "1.5.0",
          "model_name": "HTMLModel",
          "state": {
            "_dom_classes": [],
            "_model_module": "@jupyter-widgets/controls",
            "_model_module_version": "1.5.0",
            "_model_name": "HTMLModel",
            "_view_count": null,
            "_view_module": "@jupyter-widgets/controls",
            "_view_module_version": "1.5.0",
            "_view_name": "HTMLView",
            "description": "",
            "description_tooltip": null,
            "layout": "IPY_MODEL_0b6deb1bbc624680b8a8c72a37a8a79d",
            "placeholder": "​",
            "style": "IPY_MODEL_87b0e9c5edbd41f69de1c8faa97efece",
            "value": " 373k/? [00:00&lt;00:00, 7.74MB/s]"
          }
        },
        "166ae080572b49f79881980db4a6d957": {
          "model_module": "@jupyter-widgets/controls",
          "model_module_version": "1.5.0",
          "model_name": "HTMLModel",
          "state": {
            "_dom_classes": [],
            "_model_module": "@jupyter-widgets/controls",
            "_model_module_version": "1.5.0",
            "_model_name": "HTMLModel",
            "_view_count": null,
            "_view_module": "@jupyter-widgets/controls",
            "_view_module_version": "1.5.0",
            "_view_name": "HTMLView",
            "description": "",
            "description_tooltip": null,
            "layout": "IPY_MODEL_ab3627b2bbf9499fa89f512b75411428",
            "placeholder": "​",
            "style": "IPY_MODEL_867772d364234215a50f2f806ab8f0a8",
            "value": " 373k/? [00:00&lt;00:00, 7.06MB/s]"
          }
        },
        "26677c45164d4e178a9f812f45c2c770": {
          "model_module": "@jupyter-widgets/base",
          "model_module_version": "1.2.0",
          "model_name": "LayoutModel",
          "state": {
            "_model_module": "@jupyter-widgets/base",
            "_model_module_version": "1.2.0",
            "_model_name": "LayoutModel",
            "_view_count": null,
            "_view_module": "@jupyter-widgets/base",
            "_view_module_version": "1.2.0",
            "_view_name": "LayoutView",
            "align_content": null,
            "align_items": null,
            "align_self": null,
            "border": null,
            "bottom": null,
            "display": null,
            "flex": null,
            "flex_flow": null,
            "grid_area": null,
            "grid_auto_columns": null,
            "grid_auto_flow": null,
            "grid_auto_rows": null,
            "grid_column": null,
            "grid_gap": null,
            "grid_row": null,
            "grid_template_areas": null,
            "grid_template_columns": null,
            "grid_template_rows": null,
            "height": null,
            "justify_content": null,
            "justify_items": null,
            "left": null,
            "margin": null,
            "max_height": null,
            "max_width": null,
            "min_height": null,
            "min_width": null,
            "object_fit": null,
            "object_position": null,
            "order": null,
            "overflow": null,
            "overflow_x": null,
            "overflow_y": null,
            "padding": null,
            "right": null,
            "top": null,
            "visibility": null,
            "width": null
          }
        },
        "44ecb10a3c174ed8a7e641f9079c5881": {
          "model_module": "@jupyter-widgets/base",
          "model_module_version": "1.2.0",
          "model_name": "LayoutModel",
          "state": {
            "_model_module": "@jupyter-widgets/base",
            "_model_module_version": "1.2.0",
            "_model_name": "LayoutModel",
            "_view_count": null,
            "_view_module": "@jupyter-widgets/base",
            "_view_module_version": "1.2.0",
            "_view_name": "LayoutView",
            "align_content": null,
            "align_items": null,
            "align_self": null,
            "border": null,
            "bottom": null,
            "display": null,
            "flex": null,
            "flex_flow": null,
            "grid_area": null,
            "grid_auto_columns": null,
            "grid_auto_flow": null,
            "grid_auto_rows": null,
            "grid_column": null,
            "grid_gap": null,
            "grid_row": null,
            "grid_template_areas": null,
            "grid_template_columns": null,
            "grid_template_rows": null,
            "height": null,
            "justify_content": null,
            "justify_items": null,
            "left": null,
            "margin": null,
            "max_height": null,
            "max_width": null,
            "min_height": null,
            "min_width": null,
            "object_fit": null,
            "object_position": null,
            "order": null,
            "overflow": null,
            "overflow_x": null,
            "overflow_y": null,
            "padding": null,
            "right": null,
            "top": null,
            "visibility": null,
            "width": null
          }
        },
        "5b50c5f70e2148139ed707cc534bf6d0": {
          "model_module": "@jupyter-widgets/base",
          "model_module_version": "1.2.0",
          "model_name": "LayoutModel",
          "state": {
            "_model_module": "@jupyter-widgets/base",
            "_model_module_version": "1.2.0",
            "_model_name": "LayoutModel",
            "_view_count": null,
            "_view_module": "@jupyter-widgets/base",
            "_view_module_version": "1.2.0",
            "_view_name": "LayoutView",
            "align_content": null,
            "align_items": null,
            "align_self": null,
            "border": null,
            "bottom": null,
            "display": null,
            "flex": null,
            "flex_flow": null,
            "grid_area": null,
            "grid_auto_columns": null,
            "grid_auto_flow": null,
            "grid_auto_rows": null,
            "grid_column": null,
            "grid_gap": null,
            "grid_row": null,
            "grid_template_areas": null,
            "grid_template_columns": null,
            "grid_template_rows": null,
            "height": null,
            "justify_content": null,
            "justify_items": null,
            "left": null,
            "margin": null,
            "max_height": null,
            "max_width": null,
            "min_height": null,
            "min_width": null,
            "object_fit": null,
            "object_position": null,
            "order": null,
            "overflow": null,
            "overflow_x": null,
            "overflow_y": null,
            "padding": null,
            "right": null,
            "top": null,
            "visibility": null,
            "width": null
          }
        },
        "6eea5bbd46964742b0b5b7f8f30cc0d9": {
          "model_module": "@jupyter-widgets/controls",
          "model_module_version": "1.5.0",
          "model_name": "HTMLModel",
          "state": {
            "_dom_classes": [],
            "_model_module": "@jupyter-widgets/controls",
            "_model_module_version": "1.5.0",
            "_model_name": "HTMLModel",
            "_view_count": null,
            "_view_module": "@jupyter-widgets/controls",
            "_view_module_version": "1.5.0",
            "_view_name": "HTMLView",
            "description": "",
            "description_tooltip": null,
            "layout": "IPY_MODEL_14027a2083924e10b3ea0771d1e84bc3",
            "placeholder": "​",
            "style": "IPY_MODEL_8545f70259bf4646bdb2bfc8862379ec",
            "value": "Downloading https://raw.githubusercontent.com/stanfordnlp/stanza-resources/main/resources_1.8.0.json: "
          }
        },
        "6f9bda2858e7415495b27d5a1bbba591": {
          "model_module": "@jupyter-widgets/controls",
          "model_module_version": "1.5.0",
          "model_name": "ProgressStyleModel",
          "state": {
            "_model_module": "@jupyter-widgets/controls",
            "_model_module_version": "1.5.0",
            "_model_name": "ProgressStyleModel",
            "_view_count": null,
            "_view_module": "@jupyter-widgets/base",
            "_view_module_version": "1.2.0",
            "_view_name": "StyleView",
            "bar_color": null,
            "description_width": ""
          }
        },
        "8545f70259bf4646bdb2bfc8862379ec": {
          "model_module": "@jupyter-widgets/controls",
          "model_module_version": "1.5.0",
          "model_name": "DescriptionStyleModel",
          "state": {
            "_model_module": "@jupyter-widgets/controls",
            "_model_module_version": "1.5.0",
            "_model_name": "DescriptionStyleModel",
            "_view_count": null,
            "_view_module": "@jupyter-widgets/base",
            "_view_module_version": "1.2.0",
            "_view_name": "StyleView",
            "description_width": ""
          }
        },
        "865eea18e0344fd8b8806d61b76680cb": {
          "model_module": "@jupyter-widgets/controls",
          "model_module_version": "1.5.0",
          "model_name": "FloatProgressModel",
          "state": {
            "_dom_classes": [],
            "_model_module": "@jupyter-widgets/controls",
            "_model_module_version": "1.5.0",
            "_model_name": "FloatProgressModel",
            "_view_count": null,
            "_view_module": "@jupyter-widgets/controls",
            "_view_module_version": "1.5.0",
            "_view_name": "ProgressView",
            "bar_style": "success",
            "description": "",
            "description_tooltip": null,
            "layout": "IPY_MODEL_26677c45164d4e178a9f812f45c2c770",
            "max": 46416,
            "min": 0,
            "orientation": "horizontal",
            "style": "IPY_MODEL_968e14591f05492491fde1a3a5d206de",
            "value": 46416
          }
        },
        "867772d364234215a50f2f806ab8f0a8": {
          "model_module": "@jupyter-widgets/controls",
          "model_module_version": "1.5.0",
          "model_name": "DescriptionStyleModel",
          "state": {
            "_model_module": "@jupyter-widgets/controls",
            "_model_module_version": "1.5.0",
            "_model_name": "DescriptionStyleModel",
            "_view_count": null,
            "_view_module": "@jupyter-widgets/base",
            "_view_module_version": "1.2.0",
            "_view_name": "StyleView",
            "description_width": ""
          }
        },
        "87b0e9c5edbd41f69de1c8faa97efece": {
          "model_module": "@jupyter-widgets/controls",
          "model_module_version": "1.5.0",
          "model_name": "DescriptionStyleModel",
          "state": {
            "_model_module": "@jupyter-widgets/controls",
            "_model_module_version": "1.5.0",
            "_model_name": "DescriptionStyleModel",
            "_view_count": null,
            "_view_module": "@jupyter-widgets/base",
            "_view_module_version": "1.2.0",
            "_view_name": "StyleView",
            "description_width": ""
          }
        },
        "8bc3119d5cd9471a9531106a96571f97": {
          "model_module": "@jupyter-widgets/controls",
          "model_module_version": "1.5.0",
          "model_name": "HBoxModel",
          "state": {
            "_dom_classes": [],
            "_model_module": "@jupyter-widgets/controls",
            "_model_module_version": "1.5.0",
            "_model_name": "HBoxModel",
            "_view_count": null,
            "_view_module": "@jupyter-widgets/controls",
            "_view_module_version": "1.5.0",
            "_view_name": "HBoxView",
            "box_style": "",
            "children": [
              "IPY_MODEL_01f397507e4a4061802d45ca0fadc46a",
              "IPY_MODEL_a707a5efd5964ae2b077396c3d6c5514",
              "IPY_MODEL_15ff4550a69241d282c78a6ac151dbe5"
            ],
            "layout": "IPY_MODEL_d129569144844c7790893e85beedc84e"
          }
        },
        "8ec9b28ec35647ccaf43e790a54e1610": {
          "model_module": "@jupyter-widgets/base",
          "model_module_version": "1.2.0",
          "model_name": "LayoutModel",
          "state": {
            "_model_module": "@jupyter-widgets/base",
            "_model_module_version": "1.2.0",
            "_model_name": "LayoutModel",
            "_view_count": null,
            "_view_module": "@jupyter-widgets/base",
            "_view_module_version": "1.2.0",
            "_view_name": "LayoutView",
            "align_content": null,
            "align_items": null,
            "align_self": null,
            "border": null,
            "bottom": null,
            "display": null,
            "flex": null,
            "flex_flow": null,
            "grid_area": null,
            "grid_auto_columns": null,
            "grid_auto_flow": null,
            "grid_auto_rows": null,
            "grid_column": null,
            "grid_gap": null,
            "grid_row": null,
            "grid_template_areas": null,
            "grid_template_columns": null,
            "grid_template_rows": null,
            "height": null,
            "justify_content": null,
            "justify_items": null,
            "left": null,
            "margin": null,
            "max_height": null,
            "max_width": null,
            "min_height": null,
            "min_width": null,
            "object_fit": null,
            "object_position": null,
            "order": null,
            "overflow": null,
            "overflow_x": null,
            "overflow_y": null,
            "padding": null,
            "right": null,
            "top": null,
            "visibility": null,
            "width": null
          }
        },
        "902905407e0b453baaee1513493a20e9": {
          "model_module": "@jupyter-widgets/controls",
          "model_module_version": "1.5.0",
          "model_name": "DescriptionStyleModel",
          "state": {
            "_model_module": "@jupyter-widgets/controls",
            "_model_module_version": "1.5.0",
            "_model_name": "DescriptionStyleModel",
            "_view_count": null,
            "_view_module": "@jupyter-widgets/base",
            "_view_module_version": "1.2.0",
            "_view_name": "StyleView",
            "description_width": ""
          }
        },
        "968e14591f05492491fde1a3a5d206de": {
          "model_module": "@jupyter-widgets/controls",
          "model_module_version": "1.5.0",
          "model_name": "ProgressStyleModel",
          "state": {
            "_model_module": "@jupyter-widgets/controls",
            "_model_module_version": "1.5.0",
            "_model_name": "ProgressStyleModel",
            "_view_count": null,
            "_view_module": "@jupyter-widgets/base",
            "_view_module_version": "1.2.0",
            "_view_name": "StyleView",
            "bar_color": null,
            "description_width": ""
          }
        },
        "a707a5efd5964ae2b077396c3d6c5514": {
          "model_module": "@jupyter-widgets/controls",
          "model_module_version": "1.5.0",
          "model_name": "FloatProgressModel",
          "state": {
            "_dom_classes": [],
            "_model_module": "@jupyter-widgets/controls",
            "_model_module_version": "1.5.0",
            "_model_name": "FloatProgressModel",
            "_view_count": null,
            "_view_module": "@jupyter-widgets/controls",
            "_view_module_version": "1.5.0",
            "_view_name": "ProgressView",
            "bar_style": "success",
            "description": "",
            "description_tooltip": null,
            "layout": "IPY_MODEL_8ec9b28ec35647ccaf43e790a54e1610",
            "max": 46416,
            "min": 0,
            "orientation": "horizontal",
            "style": "IPY_MODEL_6f9bda2858e7415495b27d5a1bbba591",
            "value": 46416
          }
        },
        "ab3627b2bbf9499fa89f512b75411428": {
          "model_module": "@jupyter-widgets/base",
          "model_module_version": "1.2.0",
          "model_name": "LayoutModel",
          "state": {
            "_model_module": "@jupyter-widgets/base",
            "_model_module_version": "1.2.0",
            "_model_name": "LayoutModel",
            "_view_count": null,
            "_view_module": "@jupyter-widgets/base",
            "_view_module_version": "1.2.0",
            "_view_name": "LayoutView",
            "align_content": null,
            "align_items": null,
            "align_self": null,
            "border": null,
            "bottom": null,
            "display": null,
            "flex": null,
            "flex_flow": null,
            "grid_area": null,
            "grid_auto_columns": null,
            "grid_auto_flow": null,
            "grid_auto_rows": null,
            "grid_column": null,
            "grid_gap": null,
            "grid_row": null,
            "grid_template_areas": null,
            "grid_template_columns": null,
            "grid_template_rows": null,
            "height": null,
            "justify_content": null,
            "justify_items": null,
            "left": null,
            "margin": null,
            "max_height": null,
            "max_width": null,
            "min_height": null,
            "min_width": null,
            "object_fit": null,
            "object_position": null,
            "order": null,
            "overflow": null,
            "overflow_x": null,
            "overflow_y": null,
            "padding": null,
            "right": null,
            "top": null,
            "visibility": null,
            "width": null
          }
        },
        "d129569144844c7790893e85beedc84e": {
          "model_module": "@jupyter-widgets/base",
          "model_module_version": "1.2.0",
          "model_name": "LayoutModel",
          "state": {
            "_model_module": "@jupyter-widgets/base",
            "_model_module_version": "1.2.0",
            "_model_name": "LayoutModel",
            "_view_count": null,
            "_view_module": "@jupyter-widgets/base",
            "_view_module_version": "1.2.0",
            "_view_name": "LayoutView",
            "align_content": null,
            "align_items": null,
            "align_self": null,
            "border": null,
            "bottom": null,
            "display": null,
            "flex": null,
            "flex_flow": null,
            "grid_area": null,
            "grid_auto_columns": null,
            "grid_auto_flow": null,
            "grid_auto_rows": null,
            "grid_column": null,
            "grid_gap": null,
            "grid_row": null,
            "grid_template_areas": null,
            "grid_template_columns": null,
            "grid_template_rows": null,
            "height": null,
            "justify_content": null,
            "justify_items": null,
            "left": null,
            "margin": null,
            "max_height": null,
            "max_width": null,
            "min_height": null,
            "min_width": null,
            "object_fit": null,
            "object_position": null,
            "order": null,
            "overflow": null,
            "overflow_x": null,
            "overflow_y": null,
            "padding": null,
            "right": null,
            "top": null,
            "visibility": null,
            "width": null
          }
        },
        "ebf6c947ad664fbf98f76f1b60bd7caf": {
          "model_module": "@jupyter-widgets/controls",
          "model_module_version": "1.5.0",
          "model_name": "HBoxModel",
          "state": {
            "_dom_classes": [],
            "_model_module": "@jupyter-widgets/controls",
            "_model_module_version": "1.5.0",
            "_model_name": "HBoxModel",
            "_view_count": null,
            "_view_module": "@jupyter-widgets/controls",
            "_view_module_version": "1.5.0",
            "_view_name": "HBoxView",
            "box_style": "",
            "children": [
              "IPY_MODEL_6eea5bbd46964742b0b5b7f8f30cc0d9",
              "IPY_MODEL_865eea18e0344fd8b8806d61b76680cb",
              "IPY_MODEL_166ae080572b49f79881980db4a6d957"
            ],
            "layout": "IPY_MODEL_44ecb10a3c174ed8a7e641f9079c5881"
          }
        }
      }
    }
  },
  "nbformat": 4,
  "nbformat_minor": 0
}
