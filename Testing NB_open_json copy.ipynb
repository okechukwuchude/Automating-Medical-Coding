{
  "cells": [
    {
      "cell_type": "code",
      "execution_count": 6,
      "metadata": {
        "colab": {
          "base_uri": "https://localhost:8080/"
        },
        "id": "c9cY0O3UfyLk",
        "outputId": "5ec278b7-687b-4caf-d2c5-51d6cf045998"
      },
      "outputs": [],
      "source": [
        "#pip install stanza"
      ]
    },
    {
      "cell_type": "code",
      "execution_count": 7,
      "metadata": {
        "colab": {
          "base_uri": "https://localhost:8080/",
          "height": 535,
          "referenced_widgets": [
            "8bc3119d5cd9471a9531106a96571f97",
            "01f397507e4a4061802d45ca0fadc46a",
            "a707a5efd5964ae2b077396c3d6c5514",
            "15ff4550a69241d282c78a6ac151dbe5",
            "d129569144844c7790893e85beedc84e",
            "5b50c5f70e2148139ed707cc534bf6d0",
            "902905407e0b453baaee1513493a20e9",
            "8ec9b28ec35647ccaf43e790a54e1610",
            "6f9bda2858e7415495b27d5a1bbba591",
            "0b6deb1bbc624680b8a8c72a37a8a79d",
            "87b0e9c5edbd41f69de1c8faa97efece",
            "ebf6c947ad664fbf98f76f1b60bd7caf",
            "6eea5bbd46964742b0b5b7f8f30cc0d9",
            "865eea18e0344fd8b8806d61b76680cb",
            "166ae080572b49f79881980db4a6d957",
            "44ecb10a3c174ed8a7e641f9079c5881",
            "14027a2083924e10b3ea0771d1e84bc3",
            "8545f70259bf4646bdb2bfc8862379ec",
            "26677c45164d4e178a9f812f45c2c770",
            "968e14591f05492491fde1a3a5d206de",
            "ab3627b2bbf9499fa89f512b75411428",
            "867772d364234215a50f2f806ab8f0a8"
          ]
        },
        "id": "XeBjbnkrKenD",
        "outputId": "1ec1bd5d-adbd-47cd-8ba0-19aacaf97f4b"
      },
      "outputs": [
        {
          "name": "stderr",
          "output_type": "stream",
          "text": [
            "Downloading https://raw.githubusercontent.com/stanfordnlp/stanza-resources/main/resources_1.8.0.json: 373kB [00:00, 2.49MB/s]                    \n",
            "2024-03-12 15:04:46 INFO: Downloaded file to C:\\Users\\okechukwu chude\\stanza_resources\\resources.json\n",
            "2024-03-12 15:04:46 INFO: Downloading default packages for language: en (English) ...\n",
            "2024-03-12 15:04:47 INFO: File exists: C:\\Users\\okechukwu chude\\stanza_resources\\en\\default.zip\n",
            "2024-03-12 15:04:50 INFO: Finished downloading models and saved to C:\\Users\\okechukwu chude\\stanza_resources\n",
            "2024-03-12 15:04:50 INFO: Checking for updates to resources.json in case models have been updated.  Note: this behavior can be turned off with download_method=None or download_method=DownloadMethod.REUSE_RESOURCES\n",
            "Downloading https://raw.githubusercontent.com/stanfordnlp/stanza-resources/main/resources_1.8.0.json: 373kB [00:00, 2.98MB/s]                    \n",
            "2024-03-12 15:04:51 INFO: Downloaded file to C:\\Users\\okechukwu chude\\stanza_resources\\resources.json\n",
            "2024-03-12 15:04:51 WARNING: Language en package default expects mwt, which has been added\n",
            "2024-03-12 15:04:51 WARNING: Can not find ner: ontonotes from official model list. Ignoring it.\n",
            "2024-03-12 15:04:52 INFO: Loading these models for language: en (English):\n",
            "=================================\n",
            "| Processor | Package           |\n",
            "---------------------------------\n",
            "| tokenize  | combined          |\n",
            "| mwt       | combined          |\n",
            "| pos       | combined_charlm   |\n",
            "| lemma     | combined_nocharlm |\n",
            "| ner       | ncbi_disease      |\n",
            "=================================\n",
            "\n",
            "2024-03-12 15:04:52 INFO: Using device: cpu\n",
            "2024-03-12 15:04:52 INFO: Loading: tokenize\n",
            "2024-03-12 15:04:52 INFO: Loading: mwt\n",
            "2024-03-12 15:04:52 INFO: Loading: pos\n",
            "2024-03-12 15:04:52 INFO: Loading: lemma\n",
            "2024-03-12 15:04:52 INFO: Loading: ner\n",
            "2024-03-12 15:04:53 INFO: Done loading processors!\n"
          ]
        }
      ],
      "source": [
        "import os\n",
        "import json\n",
        "import stanza\n",
        "import csv\n",
        "\n",
        "# Build an English pipeline\n",
        "stanza.download('en') # download English model\n",
        "nlp = stanza.Pipeline('en', processors='tokenize,pos,lemma,ner', package={\"ner\": [\"ncbi_disease\", \"ontonotes\"]}) # initialize English neural pipeline"
      ]
    },
    {
      "cell_type": "code",
      "execution_count": 8,
      "metadata": {
        "id": "zlchODmWssHo"
      },
      "outputs": [],
      "source": [
        "# Global variable to store all extracted texts\n",
        "extracted_texts = []"
      ]
    },
    {
      "cell_type": "code",
      "execution_count": 9,
      "metadata": {
        "id": "MXd91CV8i37H"
      },
      "outputs": [],
      "source": [
        "def process_text_with_stanza(text):\n",
        "    doc = nlp(text)\n",
        "    return doc\n"
      ]
    },
    {
      "cell_type": "code",
      "execution_count": 10,
      "metadata": {
        "id": "FgLHCWCkKenH"
      },
      "outputs": [],
      "source": [
        "def extract_info_from_json(json_file_path, hadm_id_set):\n",
        "    global extracted_texts\n",
        "\n",
        "    # Open the JSON file\n",
        "    with open(json_file_path, 'r') as file:\n",
        "        # Load JSON data from the file\n",
        "        data = json.load(file)\n",
        "\n",
        "        # Extract 'hadm_id' and 'comment' from the JSON data\n",
        "        hadm_id = data.get('hadm_id', None)\n",
        "        comment = data.get('comment', None)\n",
        "\n",
        "        # If 'hadm_id' is not found, print a warning message\n",
        "        if hadm_id is None:\n",
        "            print(f\"Warning: 'hadm_id' not found in {json_file_path}\")\n",
        "            return None\n",
        "\n",
        "        # Add 'hadm_id' to the set\n",
        "        hadm_id_set.add(hadm_id)\n",
        "\n",
        "        # Extract 'notes' from the JSON data\n",
        "        notes = data.get('notes', [])\n",
        "\n",
        "        # Iterate through each note\n",
        "        for note in notes:\n",
        "            note_info = {}  # Initialize a dictionary to store note information\n",
        "\n",
        "            # Add 'hadm_id' to the note information\n",
        "            note_info['hadm_id'] = hadm_id\n",
        "\n",
        "            # Extract information from the note\n",
        "            note_info['note_id'] = note.get('note_id', None)\n",
        "            note_info['category'] = note.get('category', None)\n",
        "            note_info['description'] = note.get('description', None)\n",
        "\n",
        "            # Extract annotations from the note\n",
        "            annotations = note.get('annotations', [])\n",
        "            annotations_info = []  # Initialize a list to store annotation information\n",
        "\n",
        "            # Iterate through each annotation in the note\n",
        "            for annotation in annotations:\n",
        "                annotation_info = {}  # Initialize a dictionary to store annotation information\n",
        "\n",
        "                # Extract information from the annotation\n",
        "                annotation_info['begin'] = annotation.get('begin', None)\n",
        "                annotation_info['end'] = annotation.get('end', None)\n",
        "                annotation_info['code'] = annotation.get('code', None)\n",
        "                annotation_info['code_system'] = annotation.get('code_system', None)\n",
        "                annotation_info['description'] = annotation.get('description', None)\n",
        "                annotation_info['type'] = annotation.get('type', None)\n",
        "                annotation_info['covered_text'] = annotation.get('covered_text', None)\n",
        "\n",
        "                annotations_info.append(annotation_info)  # Append annotation information to the list\n",
        "\n",
        "            note_info['annotations'] = annotations_info  # Add annotations information to the note\n",
        "            note_info['text'] = note.get('text', None)\n",
        "\n",
        "            # Process text with Stanza\n",
        "            if note_info['text']:\n",
        "                processed_text = process_text_with_stanza(note_info['text'])\n",
        "                note_info['processed_text'] = processed_text\n",
        "\n",
        "                # Count number of sentences and store it\n",
        "                num_sentences = len(processed_text.sentences)\n",
        "                note_info['num_sentences'] = num_sentences\n",
        "\n",
        "            extracted_texts.append(note_info)  # Append note information to the global variable"
      ]
    },
    {
      "cell_type": "code",
      "execution_count": 11,
      "metadata": {
        "id": "2S3Lh7OMKenI"
      },
      "outputs": [],
      "source": [
        "def search_files(folder_path):\n",
        "    # Set to store unique hadm_id values\n",
        "    hadm_id_set = set()\n",
        "\n",
        "    # Recursively search for JSON files in the folder and its subfolders\n",
        "    for root, dirs, files in os.walk(folder_path):\n",
        "        for filename in files:\n",
        "            if filename.endswith('.json'):\n",
        "                # Construct the full path to the JSON file\n",
        "                json_file_path = os.path.join(root, filename)\n",
        "                print(\"Processing:\", json_file_path)\n",
        "                # Call extract_info_from_json function to extract information from the JSON file\n",
        "                extract_info_from_json(json_file_path, hadm_id_set)\n",
        "                # Print a separator after processing each file\n",
        "                print(\"=\" * 50)\n",
        "\n",
        "    # Print the count of unique hadm_id values\n",
        "    print(\"Total unique hadm_id count:\", len(hadm_id_set))\n",
        "\n",
        "    # # Write extracted information to CSV file\n",
        "    # write_to_csv(extracted_texts)\n"
      ]
    },
    {
      "cell_type": "code",
      "execution_count": 12,
      "metadata": {
        "colab": {
          "base_uri": "https://localhost:8080/",
          "height": 1000
        },
        "id": "WJ1mL_x2KenJ",
        "outputId": "8084167c-b4d1-455b-921e-acb80cd7a039"
      },
      "outputs": [
        {
          "name": "stdout",
          "output_type": "stream",
          "text": [
            "Processing: C:\\Users\\okechukwu chude\\Documents\\NLP\\text extraction\\Automating-Medical-Coding\\testing\\gold\\Inpatient\\ICD-10\\1.0\\100197-ICD-10.json\n",
            "==================================================\n",
            "Processing: C:\\Users\\okechukwu chude\\Documents\\NLP\\text extraction\\Automating-Medical-Coding\\testing\\gold\\Inpatient\\ICD-10\\1.0\\100463-ICD-10.json\n",
            "==================================================\n",
            "Processing: C:\\Users\\okechukwu chude\\Documents\\NLP\\text extraction\\Automating-Medical-Coding\\testing\\gold\\Inpatient\\ICD-10\\1.0\\101173-ICD-10.json\n",
            "==================================================\n",
            "Processing: C:\\Users\\okechukwu chude\\Documents\\NLP\\text extraction\\Automating-Medical-Coding\\testing\\gold\\Inpatient\\ICD-9\\1.0\\100197-ICD-9.json\n",
            "==================================================\n",
            "Processing: C:\\Users\\okechukwu chude\\Documents\\NLP\\text extraction\\Automating-Medical-Coding\\testing\\gold\\Inpatient\\ICD-9\\1.0\\100463-ICD-9.json\n",
            "==================================================\n",
            "Processing: C:\\Users\\okechukwu chude\\Documents\\NLP\\text extraction\\Automating-Medical-Coding\\testing\\gold\\Inpatient\\ICD-9\\1.0\\101173-ICD-9.json\n",
            "==================================================\n",
            "Processing: C:\\Users\\okechukwu chude\\Documents\\NLP\\text extraction\\Automating-Medical-Coding\\testing\\gold\\Profee\\ICD-10\\1.0\\101525-ICD-10.json\n",
            "==================================================\n",
            "Processing: C:\\Users\\okechukwu chude\\Documents\\NLP\\text extraction\\Automating-Medical-Coding\\testing\\gold\\Profee\\ICD-10\\1.0\\103715-ICD-10.json\n",
            "==================================================\n",
            "Processing: C:\\Users\\okechukwu chude\\Documents\\NLP\\text extraction\\Automating-Medical-Coding\\testing\\gold\\Profee\\ICD-10\\1.0\\105829-ICD-10.json\n",
            "==================================================\n",
            "Processing: C:\\Users\\okechukwu chude\\Documents\\NLP\\text extraction\\Automating-Medical-Coding\\testing\\gold\\Profee\\ICD-9\\1.0\\101525-ICD-9.json\n",
            "==================================================\n",
            "Processing: C:\\Users\\okechukwu chude\\Documents\\NLP\\text extraction\\Automating-Medical-Coding\\testing\\gold\\Profee\\ICD-9\\1.0\\103715-ICD-9.json\n",
            "==================================================\n",
            "Processing: C:\\Users\\okechukwu chude\\Documents\\NLP\\text extraction\\Automating-Medical-Coding\\testing\\gold\\Profee\\ICD-9\\1.0\\105829-ICD-9.json\n",
            "==================================================\n",
            "Total unique hadm_id count: 6\n"
          ]
        }
      ],
      "source": [
        "# Specify the path to the main folder containing subfolders with JSON files\n",
        "main_folder_path = r\"C:\\Users\\okechukwu chude\\Documents\\NLP\\text extraction\\Automating-Medical-Coding\\testing\"\n",
        "\n",
        "# Call the search_files function to start searching for JSON files in the main folder and its subfolders\n",
        "search_files(main_folder_path)"
      ]
    },
    {
      "cell_type": "code",
      "execution_count": 13,
      "metadata": {
        "colab": {
          "base_uri": "https://localhost:8080/"
        },
        "id": "wbxp0xDKKtWH",
        "outputId": "30d98bb3-c3dc-40ed-a343-f4f9181f6c82"
      },
      "outputs": [
        {
          "name": "stdout",
          "output_type": "stream",
          "text": [
            "Total number of sentences: 2274\n"
          ]
        }
      ],
      "source": [
        "# Calculate total number of sentences\n",
        "total_sentences = sum(note_info['num_sentences'] for note_info in extracted_texts if 'num_sentences' in note_info)\n",
        "\n",
        "# Print total number of sentences\n",
        "print(\"Total number of sentences:\", total_sentences)"
      ]
    },
    {
      "cell_type": "markdown",
      "metadata": {
        "id": "5kwlYQ86mA4Z"
      },
      "source": [
        "**Sentence Tokenisation**"
      ]
    },
    {
      "cell_type": "code",
      "execution_count": null,
      "metadata": {
        "id": "KEvt3Za-no_v"
      },
      "outputs": [],
      "source": [
        "for i, sentence in enumerate(doc.sentences):\n",
        "    print(f'====== Sentence {i+1} tokens =======')\n",
        "    print(*[f'id: {token.id}\\ttext: {token.text}' for token in sentence.tokens], sep='\\n')"
      ]
    },
    {
      "cell_type": "markdown",
      "metadata": {},
      "source": [
        "Named entity recognision"
      ]
    },
    {
      "cell_type": "code",
      "execution_count": null,
      "metadata": {},
      "outputs": [],
      "source": [
        "print(*[f'token: {token.text}\\tner: {token.ner}' for sent in doc.sentences for token in sent.tokens], sep='\\n')"
      ]
    },
    {
      "cell_type": "code",
      "execution_count": null,
      "metadata": {},
      "outputs": [],
      "source": [
        "print(doc.ents)"
      ]
    },
    {
      "cell_type": "markdown",
      "metadata": {
        "id": "vu7TMDas03h5"
      },
      "source": [
        "EXTRACT EVIDENCE FROM THE JSON FILES"
      ]
    },
    {
      "cell_type": "markdown",
      "metadata": {
        "id": "LQ5Ug80H1HTx"
      },
      "source": []
    }
  ],
  "metadata": {
    "accelerator": "GPU",
    "colab": {
      "gpuType": "T4",
      "include_colab_link": true,
      "machine_shape": "hm",
      "provenance": []
    },
    "kernelspec": {
      "display_name": "Python 3",
      "name": "python3"
    },
    "language_info": {
      "codemirror_mode": {
        "name": "ipython",
        "version": 3
      },
      "file_extension": ".py",
      "mimetype": "text/x-python",
      "name": "python",
      "nbconvert_exporter": "python",
      "pygments_lexer": "ipython3",
      "version": "3.12.2"
    },
    "widgets": {
      "application/vnd.jupyter.widget-state+json": {
        "01f397507e4a4061802d45ca0fadc46a": {
          "model_module": "@jupyter-widgets/controls",
          "model_module_version": "1.5.0",
          "model_name": "HTMLModel",
          "state": {
            "_dom_classes": [],
            "_model_module": "@jupyter-widgets/controls",
            "_model_module_version": "1.5.0",
            "_model_name": "HTMLModel",
            "_view_count": null,
            "_view_module": "@jupyter-widgets/controls",
            "_view_module_version": "1.5.0",
            "_view_name": "HTMLView",
            "description": "",
            "description_tooltip": null,
            "layout": "IPY_MODEL_5b50c5f70e2148139ed707cc534bf6d0",
            "placeholder": "​",
            "style": "IPY_MODEL_902905407e0b453baaee1513493a20e9",
            "value": "Downloading https://raw.githubusercontent.com/stanfordnlp/stanza-resources/main/resources_1.8.0.json: "
          }
        },
        "0b6deb1bbc624680b8a8c72a37a8a79d": {
          "model_module": "@jupyter-widgets/base",
          "model_module_version": "1.2.0",
          "model_name": "LayoutModel",
          "state": {
            "_model_module": "@jupyter-widgets/base",
            "_model_module_version": "1.2.0",
            "_model_name": "LayoutModel",
            "_view_count": null,
            "_view_module": "@jupyter-widgets/base",
            "_view_module_version": "1.2.0",
            "_view_name": "LayoutView",
            "align_content": null,
            "align_items": null,
            "align_self": null,
            "border": null,
            "bottom": null,
            "display": null,
            "flex": null,
            "flex_flow": null,
            "grid_area": null,
            "grid_auto_columns": null,
            "grid_auto_flow": null,
            "grid_auto_rows": null,
            "grid_column": null,
            "grid_gap": null,
            "grid_row": null,
            "grid_template_areas": null,
            "grid_template_columns": null,
            "grid_template_rows": null,
            "height": null,
            "justify_content": null,
            "justify_items": null,
            "left": null,
            "margin": null,
            "max_height": null,
            "max_width": null,
            "min_height": null,
            "min_width": null,
            "object_fit": null,
            "object_position": null,
            "order": null,
            "overflow": null,
            "overflow_x": null,
            "overflow_y": null,
            "padding": null,
            "right": null,
            "top": null,
            "visibility": null,
            "width": null
          }
        },
        "14027a2083924e10b3ea0771d1e84bc3": {
          "model_module": "@jupyter-widgets/base",
          "model_module_version": "1.2.0",
          "model_name": "LayoutModel",
          "state": {
            "_model_module": "@jupyter-widgets/base",
            "_model_module_version": "1.2.0",
            "_model_name": "LayoutModel",
            "_view_count": null,
            "_view_module": "@jupyter-widgets/base",
            "_view_module_version": "1.2.0",
            "_view_name": "LayoutView",
            "align_content": null,
            "align_items": null,
            "align_self": null,
            "border": null,
            "bottom": null,
            "display": null,
            "flex": null,
            "flex_flow": null,
            "grid_area": null,
            "grid_auto_columns": null,
            "grid_auto_flow": null,
            "grid_auto_rows": null,
            "grid_column": null,
            "grid_gap": null,
            "grid_row": null,
            "grid_template_areas": null,
            "grid_template_columns": null,
            "grid_template_rows": null,
            "height": null,
            "justify_content": null,
            "justify_items": null,
            "left": null,
            "margin": null,
            "max_height": null,
            "max_width": null,
            "min_height": null,
            "min_width": null,
            "object_fit": null,
            "object_position": null,
            "order": null,
            "overflow": null,
            "overflow_x": null,
            "overflow_y": null,
            "padding": null,
            "right": null,
            "top": null,
            "visibility": null,
            "width": null
          }
        },
        "15ff4550a69241d282c78a6ac151dbe5": {
          "model_module": "@jupyter-widgets/controls",
          "model_module_version": "1.5.0",
          "model_name": "HTMLModel",
          "state": {
            "_dom_classes": [],
            "_model_module": "@jupyter-widgets/controls",
            "_model_module_version": "1.5.0",
            "_model_name": "HTMLModel",
            "_view_count": null,
            "_view_module": "@jupyter-widgets/controls",
            "_view_module_version": "1.5.0",
            "_view_name": "HTMLView",
            "description": "",
            "description_tooltip": null,
            "layout": "IPY_MODEL_0b6deb1bbc624680b8a8c72a37a8a79d",
            "placeholder": "​",
            "style": "IPY_MODEL_87b0e9c5edbd41f69de1c8faa97efece",
            "value": " 373k/? [00:00&lt;00:00, 7.74MB/s]"
          }
        },
        "166ae080572b49f79881980db4a6d957": {
          "model_module": "@jupyter-widgets/controls",
          "model_module_version": "1.5.0",
          "model_name": "HTMLModel",
          "state": {
            "_dom_classes": [],
            "_model_module": "@jupyter-widgets/controls",
            "_model_module_version": "1.5.0",
            "_model_name": "HTMLModel",
            "_view_count": null,
            "_view_module": "@jupyter-widgets/controls",
            "_view_module_version": "1.5.0",
            "_view_name": "HTMLView",
            "description": "",
            "description_tooltip": null,
            "layout": "IPY_MODEL_ab3627b2bbf9499fa89f512b75411428",
            "placeholder": "​",
            "style": "IPY_MODEL_867772d364234215a50f2f806ab8f0a8",
            "value": " 373k/? [00:00&lt;00:00, 7.06MB/s]"
          }
        },
        "26677c45164d4e178a9f812f45c2c770": {
          "model_module": "@jupyter-widgets/base",
          "model_module_version": "1.2.0",
          "model_name": "LayoutModel",
          "state": {
            "_model_module": "@jupyter-widgets/base",
            "_model_module_version": "1.2.0",
            "_model_name": "LayoutModel",
            "_view_count": null,
            "_view_module": "@jupyter-widgets/base",
            "_view_module_version": "1.2.0",
            "_view_name": "LayoutView",
            "align_content": null,
            "align_items": null,
            "align_self": null,
            "border": null,
            "bottom": null,
            "display": null,
            "flex": null,
            "flex_flow": null,
            "grid_area": null,
            "grid_auto_columns": null,
            "grid_auto_flow": null,
            "grid_auto_rows": null,
            "grid_column": null,
            "grid_gap": null,
            "grid_row": null,
            "grid_template_areas": null,
            "grid_template_columns": null,
            "grid_template_rows": null,
            "height": null,
            "justify_content": null,
            "justify_items": null,
            "left": null,
            "margin": null,
            "max_height": null,
            "max_width": null,
            "min_height": null,
            "min_width": null,
            "object_fit": null,
            "object_position": null,
            "order": null,
            "overflow": null,
            "overflow_x": null,
            "overflow_y": null,
            "padding": null,
            "right": null,
            "top": null,
            "visibility": null,
            "width": null
          }
        },
        "44ecb10a3c174ed8a7e641f9079c5881": {
          "model_module": "@jupyter-widgets/base",
          "model_module_version": "1.2.0",
          "model_name": "LayoutModel",
          "state": {
            "_model_module": "@jupyter-widgets/base",
            "_model_module_version": "1.2.0",
            "_model_name": "LayoutModel",
            "_view_count": null,
            "_view_module": "@jupyter-widgets/base",
            "_view_module_version": "1.2.0",
            "_view_name": "LayoutView",
            "align_content": null,
            "align_items": null,
            "align_self": null,
            "border": null,
            "bottom": null,
            "display": null,
            "flex": null,
            "flex_flow": null,
            "grid_area": null,
            "grid_auto_columns": null,
            "grid_auto_flow": null,
            "grid_auto_rows": null,
            "grid_column": null,
            "grid_gap": null,
            "grid_row": null,
            "grid_template_areas": null,
            "grid_template_columns": null,
            "grid_template_rows": null,
            "height": null,
            "justify_content": null,
            "justify_items": null,
            "left": null,
            "margin": null,
            "max_height": null,
            "max_width": null,
            "min_height": null,
            "min_width": null,
            "object_fit": null,
            "object_position": null,
            "order": null,
            "overflow": null,
            "overflow_x": null,
            "overflow_y": null,
            "padding": null,
            "right": null,
            "top": null,
            "visibility": null,
            "width": null
          }
        },
        "5b50c5f70e2148139ed707cc534bf6d0": {
          "model_module": "@jupyter-widgets/base",
          "model_module_version": "1.2.0",
          "model_name": "LayoutModel",
          "state": {
            "_model_module": "@jupyter-widgets/base",
            "_model_module_version": "1.2.0",
            "_model_name": "LayoutModel",
            "_view_count": null,
            "_view_module": "@jupyter-widgets/base",
            "_view_module_version": "1.2.0",
            "_view_name": "LayoutView",
            "align_content": null,
            "align_items": null,
            "align_self": null,
            "border": null,
            "bottom": null,
            "display": null,
            "flex": null,
            "flex_flow": null,
            "grid_area": null,
            "grid_auto_columns": null,
            "grid_auto_flow": null,
            "grid_auto_rows": null,
            "grid_column": null,
            "grid_gap": null,
            "grid_row": null,
            "grid_template_areas": null,
            "grid_template_columns": null,
            "grid_template_rows": null,
            "height": null,
            "justify_content": null,
            "justify_items": null,
            "left": null,
            "margin": null,
            "max_height": null,
            "max_width": null,
            "min_height": null,
            "min_width": null,
            "object_fit": null,
            "object_position": null,
            "order": null,
            "overflow": null,
            "overflow_x": null,
            "overflow_y": null,
            "padding": null,
            "right": null,
            "top": null,
            "visibility": null,
            "width": null
          }
        },
        "6eea5bbd46964742b0b5b7f8f30cc0d9": {
          "model_module": "@jupyter-widgets/controls",
          "model_module_version": "1.5.0",
          "model_name": "HTMLModel",
          "state": {
            "_dom_classes": [],
            "_model_module": "@jupyter-widgets/controls",
            "_model_module_version": "1.5.0",
            "_model_name": "HTMLModel",
            "_view_count": null,
            "_view_module": "@jupyter-widgets/controls",
            "_view_module_version": "1.5.0",
            "_view_name": "HTMLView",
            "description": "",
            "description_tooltip": null,
            "layout": "IPY_MODEL_14027a2083924e10b3ea0771d1e84bc3",
            "placeholder": "​",
            "style": "IPY_MODEL_8545f70259bf4646bdb2bfc8862379ec",
            "value": "Downloading https://raw.githubusercontent.com/stanfordnlp/stanza-resources/main/resources_1.8.0.json: "
          }
        },
        "6f9bda2858e7415495b27d5a1bbba591": {
          "model_module": "@jupyter-widgets/controls",
          "model_module_version": "1.5.0",
          "model_name": "ProgressStyleModel",
          "state": {
            "_model_module": "@jupyter-widgets/controls",
            "_model_module_version": "1.5.0",
            "_model_name": "ProgressStyleModel",
            "_view_count": null,
            "_view_module": "@jupyter-widgets/base",
            "_view_module_version": "1.2.0",
            "_view_name": "StyleView",
            "bar_color": null,
            "description_width": ""
          }
        },
        "8545f70259bf4646bdb2bfc8862379ec": {
          "model_module": "@jupyter-widgets/controls",
          "model_module_version": "1.5.0",
          "model_name": "DescriptionStyleModel",
          "state": {
            "_model_module": "@jupyter-widgets/controls",
            "_model_module_version": "1.5.0",
            "_model_name": "DescriptionStyleModel",
            "_view_count": null,
            "_view_module": "@jupyter-widgets/base",
            "_view_module_version": "1.2.0",
            "_view_name": "StyleView",
            "description_width": ""
          }
        },
        "865eea18e0344fd8b8806d61b76680cb": {
          "model_module": "@jupyter-widgets/controls",
          "model_module_version": "1.5.0",
          "model_name": "FloatProgressModel",
          "state": {
            "_dom_classes": [],
            "_model_module": "@jupyter-widgets/controls",
            "_model_module_version": "1.5.0",
            "_model_name": "FloatProgressModel",
            "_view_count": null,
            "_view_module": "@jupyter-widgets/controls",
            "_view_module_version": "1.5.0",
            "_view_name": "ProgressView",
            "bar_style": "success",
            "description": "",
            "description_tooltip": null,
            "layout": "IPY_MODEL_26677c45164d4e178a9f812f45c2c770",
            "max": 46416,
            "min": 0,
            "orientation": "horizontal",
            "style": "IPY_MODEL_968e14591f05492491fde1a3a5d206de",
            "value": 46416
          }
        },
        "867772d364234215a50f2f806ab8f0a8": {
          "model_module": "@jupyter-widgets/controls",
          "model_module_version": "1.5.0",
          "model_name": "DescriptionStyleModel",
          "state": {
            "_model_module": "@jupyter-widgets/controls",
            "_model_module_version": "1.5.0",
            "_model_name": "DescriptionStyleModel",
            "_view_count": null,
            "_view_module": "@jupyter-widgets/base",
            "_view_module_version": "1.2.0",
            "_view_name": "StyleView",
            "description_width": ""
          }
        },
        "87b0e9c5edbd41f69de1c8faa97efece": {
          "model_module": "@jupyter-widgets/controls",
          "model_module_version": "1.5.0",
          "model_name": "DescriptionStyleModel",
          "state": {
            "_model_module": "@jupyter-widgets/controls",
            "_model_module_version": "1.5.0",
            "_model_name": "DescriptionStyleModel",
            "_view_count": null,
            "_view_module": "@jupyter-widgets/base",
            "_view_module_version": "1.2.0",
            "_view_name": "StyleView",
            "description_width": ""
          }
        },
        "8bc3119d5cd9471a9531106a96571f97": {
          "model_module": "@jupyter-widgets/controls",
          "model_module_version": "1.5.0",
          "model_name": "HBoxModel",
          "state": {
            "_dom_classes": [],
            "_model_module": "@jupyter-widgets/controls",
            "_model_module_version": "1.5.0",
            "_model_name": "HBoxModel",
            "_view_count": null,
            "_view_module": "@jupyter-widgets/controls",
            "_view_module_version": "1.5.0",
            "_view_name": "HBoxView",
            "box_style": "",
            "children": [
              "IPY_MODEL_01f397507e4a4061802d45ca0fadc46a",
              "IPY_MODEL_a707a5efd5964ae2b077396c3d6c5514",
              "IPY_MODEL_15ff4550a69241d282c78a6ac151dbe5"
            ],
            "layout": "IPY_MODEL_d129569144844c7790893e85beedc84e"
          }
        },
        "8ec9b28ec35647ccaf43e790a54e1610": {
          "model_module": "@jupyter-widgets/base",
          "model_module_version": "1.2.0",
          "model_name": "LayoutModel",
          "state": {
            "_model_module": "@jupyter-widgets/base",
            "_model_module_version": "1.2.0",
            "_model_name": "LayoutModel",
            "_view_count": null,
            "_view_module": "@jupyter-widgets/base",
            "_view_module_version": "1.2.0",
            "_view_name": "LayoutView",
            "align_content": null,
            "align_items": null,
            "align_self": null,
            "border": null,
            "bottom": null,
            "display": null,
            "flex": null,
            "flex_flow": null,
            "grid_area": null,
            "grid_auto_columns": null,
            "grid_auto_flow": null,
            "grid_auto_rows": null,
            "grid_column": null,
            "grid_gap": null,
            "grid_row": null,
            "grid_template_areas": null,
            "grid_template_columns": null,
            "grid_template_rows": null,
            "height": null,
            "justify_content": null,
            "justify_items": null,
            "left": null,
            "margin": null,
            "max_height": null,
            "max_width": null,
            "min_height": null,
            "min_width": null,
            "object_fit": null,
            "object_position": null,
            "order": null,
            "overflow": null,
            "overflow_x": null,
            "overflow_y": null,
            "padding": null,
            "right": null,
            "top": null,
            "visibility": null,
            "width": null
          }
        },
        "902905407e0b453baaee1513493a20e9": {
          "model_module": "@jupyter-widgets/controls",
          "model_module_version": "1.5.0",
          "model_name": "DescriptionStyleModel",
          "state": {
            "_model_module": "@jupyter-widgets/controls",
            "_model_module_version": "1.5.0",
            "_model_name": "DescriptionStyleModel",
            "_view_count": null,
            "_view_module": "@jupyter-widgets/base",
            "_view_module_version": "1.2.0",
            "_view_name": "StyleView",
            "description_width": ""
          }
        },
        "968e14591f05492491fde1a3a5d206de": {
          "model_module": "@jupyter-widgets/controls",
          "model_module_version": "1.5.0",
          "model_name": "ProgressStyleModel",
          "state": {
            "_model_module": "@jupyter-widgets/controls",
            "_model_module_version": "1.5.0",
            "_model_name": "ProgressStyleModel",
            "_view_count": null,
            "_view_module": "@jupyter-widgets/base",
            "_view_module_version": "1.2.0",
            "_view_name": "StyleView",
            "bar_color": null,
            "description_width": ""
          }
        },
        "a707a5efd5964ae2b077396c3d6c5514": {
          "model_module": "@jupyter-widgets/controls",
          "model_module_version": "1.5.0",
          "model_name": "FloatProgressModel",
          "state": {
            "_dom_classes": [],
            "_model_module": "@jupyter-widgets/controls",
            "_model_module_version": "1.5.0",
            "_model_name": "FloatProgressModel",
            "_view_count": null,
            "_view_module": "@jupyter-widgets/controls",
            "_view_module_version": "1.5.0",
            "_view_name": "ProgressView",
            "bar_style": "success",
            "description": "",
            "description_tooltip": null,
            "layout": "IPY_MODEL_8ec9b28ec35647ccaf43e790a54e1610",
            "max": 46416,
            "min": 0,
            "orientation": "horizontal",
            "style": "IPY_MODEL_6f9bda2858e7415495b27d5a1bbba591",
            "value": 46416
          }
        },
        "ab3627b2bbf9499fa89f512b75411428": {
          "model_module": "@jupyter-widgets/base",
          "model_module_version": "1.2.0",
          "model_name": "LayoutModel",
          "state": {
            "_model_module": "@jupyter-widgets/base",
            "_model_module_version": "1.2.0",
            "_model_name": "LayoutModel",
            "_view_count": null,
            "_view_module": "@jupyter-widgets/base",
            "_view_module_version": "1.2.0",
            "_view_name": "LayoutView",
            "align_content": null,
            "align_items": null,
            "align_self": null,
            "border": null,
            "bottom": null,
            "display": null,
            "flex": null,
            "flex_flow": null,
            "grid_area": null,
            "grid_auto_columns": null,
            "grid_auto_flow": null,
            "grid_auto_rows": null,
            "grid_column": null,
            "grid_gap": null,
            "grid_row": null,
            "grid_template_areas": null,
            "grid_template_columns": null,
            "grid_template_rows": null,
            "height": null,
            "justify_content": null,
            "justify_items": null,
            "left": null,
            "margin": null,
            "max_height": null,
            "max_width": null,
            "min_height": null,
            "min_width": null,
            "object_fit": null,
            "object_position": null,
            "order": null,
            "overflow": null,
            "overflow_x": null,
            "overflow_y": null,
            "padding": null,
            "right": null,
            "top": null,
            "visibility": null,
            "width": null
          }
        },
        "d129569144844c7790893e85beedc84e": {
          "model_module": "@jupyter-widgets/base",
          "model_module_version": "1.2.0",
          "model_name": "LayoutModel",
          "state": {
            "_model_module": "@jupyter-widgets/base",
            "_model_module_version": "1.2.0",
            "_model_name": "LayoutModel",
            "_view_count": null,
            "_view_module": "@jupyter-widgets/base",
            "_view_module_version": "1.2.0",
            "_view_name": "LayoutView",
            "align_content": null,
            "align_items": null,
            "align_self": null,
            "border": null,
            "bottom": null,
            "display": null,
            "flex": null,
            "flex_flow": null,
            "grid_area": null,
            "grid_auto_columns": null,
            "grid_auto_flow": null,
            "grid_auto_rows": null,
            "grid_column": null,
            "grid_gap": null,
            "grid_row": null,
            "grid_template_areas": null,
            "grid_template_columns": null,
            "grid_template_rows": null,
            "height": null,
            "justify_content": null,
            "justify_items": null,
            "left": null,
            "margin": null,
            "max_height": null,
            "max_width": null,
            "min_height": null,
            "min_width": null,
            "object_fit": null,
            "object_position": null,
            "order": null,
            "overflow": null,
            "overflow_x": null,
            "overflow_y": null,
            "padding": null,
            "right": null,
            "top": null,
            "visibility": null,
            "width": null
          }
        },
        "ebf6c947ad664fbf98f76f1b60bd7caf": {
          "model_module": "@jupyter-widgets/controls",
          "model_module_version": "1.5.0",
          "model_name": "HBoxModel",
          "state": {
            "_dom_classes": [],
            "_model_module": "@jupyter-widgets/controls",
            "_model_module_version": "1.5.0",
            "_model_name": "HBoxModel",
            "_view_count": null,
            "_view_module": "@jupyter-widgets/controls",
            "_view_module_version": "1.5.0",
            "_view_name": "HBoxView",
            "box_style": "",
            "children": [
              "IPY_MODEL_6eea5bbd46964742b0b5b7f8f30cc0d9",
              "IPY_MODEL_865eea18e0344fd8b8806d61b76680cb",
              "IPY_MODEL_166ae080572b49f79881980db4a6d957"
            ],
            "layout": "IPY_MODEL_44ecb10a3c174ed8a7e641f9079c5881"
          }
        }
      }
    }
  },
  "nbformat": 4,
  "nbformat_minor": 0
}
