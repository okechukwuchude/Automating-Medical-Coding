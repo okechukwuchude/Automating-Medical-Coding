{
 "cells": [
  {
   "cell_type": "code",
   "execution_count": null,
   "metadata": {},
   "outputs": [],
   "source": [
    "import os\n",
    "import json\n",
    "import pandas as pd\n",
    "from nervaluate import Evaluator\n",
    "\n",
    "# Function to extract information from JSON files\n",
    "def extract_info_from_json(json_file):\n",
    "    with open(json_file, 'r') as f:\n",
    "        data = json.load(f)\n",
    "    true_labels = []\n",
    "    for note in data['notes']:\n",
    "        for annotation in note['annotations']:\n",
    "            true_labels.append({\n",
    "                'label': annotation['covered_text'],\n",
    "                'start': annotation['begin'],\n",
    "                'end': annotation['end']\n",
    "            })\n",
    "    return true_labels"
   ]
  },
  {
   "cell_type": "code",
   "execution_count": null,
   "metadata": {},
   "outputs": [],
   "source": [
    "# Function to extract information from JSON files\n",
    "labels = []\n",
    "def extract_labels(json_file):\n",
    "    with open(json_file, 'r') as f:\n",
    "        data = json.load(f)\n",
    "\n",
    "    for note in data['notes']:\n",
    "        for annotation in note['annotations']:\n",
    "            labels.append(annotation['covered_text'])\n",
    "    return labels"
   ]
  },
  {
   "cell_type": "code",
   "execution_count": null,
   "metadata": {},
   "outputs": [],
   "source": [
    "# Directory containing JSON files\n",
    "folder_path = '1.0'\n",
    "pred_path = 'output_folder_formatted'\n",
    "\n",
    "# List to store extracted true labels from selected JSON files\n",
    "all_true_labels = []\n",
    "all_pred_labels =[]\n",
    "\n",
    "# Counter to limit the number of files processed\n",
    "files_processed = 0\n",
    "\n",
    "# Iterate through each JSON file in the folder\n",
    "for filename in os.listdir(folder_path):\n",
    "    if filename.endswith('.json'):\n",
    "        #print(\"Processing:\", filename)  # Print the filename being processed\n",
    "        json_file_path = os.path.join(folder_path, filename)\n",
    "        true_labels = extract_info_from_json(json_file_path)\n",
    "        all_true_labels.append(true_labels)\n",
    "        #print(\"True labels extracted:\", all_true_labels)\n",
    "        files_processed += 1\n",
    "        if files_processed == 301:\n",
    "            break  # Stop after processing 6 files\n"
   ]
  },
  {
   "cell_type": "code",
   "execution_count": null,
   "metadata": {},
   "outputs": [],
   "source": [
    "# Iterate through each JSON file in the folder\n",
    "files_processed = 0  # Reset the counter\n",
    "for filename in os.listdir(pred_path):\n",
    "    if filename.endswith('.json'):\n",
    "        #print(\"Processing:\", filename)  # Print the filename being processed\n",
    "        json_file_path_pred = os.path.join(pred_path, filename)\n",
    "        pred_labels = extract_info_from_json(json_file_path_pred)\n",
    "        all_pred_labels.append(pred_labels)\n",
    "        #print(\"True labels extracted:\", all_true_labels)\n",
    "        files_processed += 1\n",
    "        if files_processed == 301:\n",
    "            break  # Stop after processing 6 files\n",
    "\n",
    "print(len(all_true_labels))\n",
    "\n",
    "print(len(all_pred_labels))"
   ]
  },
  {
   "cell_type": "code",
   "execution_count": null,
   "metadata": {},
   "outputs": [],
   "source": [
    "# Iterate through each JSON file in the folder\n",
    "files_processed = 0  # Reset the counter\n",
    "for filename in os.listdir(pred_path):\n",
    "    if filename.endswith('.json'):\n",
    "        #print(\"Processing:\", filename)  # Print the filename being processed\n",
    "        json_file_path_pred = os.path.join(pred_path, filename)\n",
    "        labels = extract_labels(json_file_path_pred)\n",
    "\n",
    "        #print(\"True labels extracted:\", all_true_labels)\n",
    "        files_processed += 1\n",
    "        if files_processed == 301:\n",
    "            break  # Stop after processing 6 files\n"
   ]
  },
  {
   "cell_type": "code",
   "execution_count": null,
   "metadata": {},
   "outputs": [],
   "source": [
    "# Pass 'covered_text' instead of 'LOC' in the tags parameter\n",
    "evaluator = Evaluator(all_true_labels, all_pred_labels, tags=labels)\n",
    "# Returns overall metrics and metrics for each tag\n",
    "results, results_per_tag = evaluator.evaluate()\n",
    "\n",
    "print(results)\n",
    "#print(results['ent_type'])"
   ]
  }
 ],
 "metadata": {
  "language_info": {
   "name": "python"
  }
 },
 "nbformat": 4,
 "nbformat_minor": 2
}
