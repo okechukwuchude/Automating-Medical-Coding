{
 "cells": [
  {
   "cell_type": "code",
   "execution_count": 2,
   "metadata": {},
   "outputs": [],
   "source": [
    "import argparse\n",
    "import csv\n",
    "import logging\n",
    "from pathlib import Path\n",
    "from typing import Dict"
   ]
  },
  {
   "cell_type": "code",
   "execution_count": 3,
   "metadata": {},
   "outputs": [],
   "source": [
    "def inject_note_text(notes_map: Dict[int, str], admission: Dict) -> Dict:\n",
    "    \"\"\"Inject text in-place into admission\"\"\"\n",
    "    for note in admission[\"notes\"]:\n",
    "        note_id = note.get(\"note_id\")  # Get note_id from note\n",
    "        if note_id is not None:\n",
    "            text = notes_map.get(note_id)  # Get text from notes_map\n",
    "            if text is not None:\n",
    "                note[\"text\"] = text\n",
    "                for annotation in note.get(\"annotations\", []):\n",
    "                    begin = annotation.get(\"begin\", 0)\n",
    "                    end = annotation.get(\"end\", 0)\n",
    "                    annotation[\"covered_text\"] = text[begin:end]\n",
    "            else:\n",
    "                # If you want to print a warning message instead of using logger:\n",
    "                print(f\"No text found for note_id: {note_id}\")\n",
    "        else:\n",
    "            # If you want to print a warning message instead of using logger:\n",
    "            print(\"No note_id found in note\")\n",
    "\n",
    "    return admission"
   ]
  },
  {
   "cell_type": "code",
   "execution_count": 4,
   "metadata": {},
   "outputs": [],
   "source": [
    "def _make_out_path(csv_file: Path, input_dir: Path, out_dir: Path) -> Path:\n",
    "    \"\"\"Generate output path for injected CSV file\"\"\"\n",
    "    prefix_len = len(input_dir.parts)\n",
    "    return out_dir.joinpath(*csv_file.parts[prefix_len:])\n"
   ]
  },
  {
   "cell_type": "code",
   "execution_count": 5,
   "metadata": {},
   "outputs": [],
   "source": [
    "def inject_and_persist(notes_map: Dict[int, str], data_dir: Path, out_dir: Path):\n",
    "    \"\"\"Inject text into admission and persist in out_dir if provided\"\"\"\n",
    "    if out_dir:\n",
    "        print(f\"Injecting text and persisting to {out_dir.absolute()}\")\n",
    "    else:\n",
    "        print(\"Injecting text in place\")\n",
    "\n",
    "    # Iterate through CSV files in data_dir\n",
    "    for csv_file in data_dir.glob(\"**/*.csv\"):\n",
    "        with open(csv_file, \"r\", encoding=\"utf8\") as ifp:\n",
    "            reader = csv.DictReader(ifp)\n",
    "            headers = reader.fieldnames\n",
    "            rows = list(reader)\n",
    "            injected_rows = []\n",
    "            for row in rows:\n",
    "                injected_row = inject_note_text(notes_map, row)\n",
    "                injected_rows.append(injected_row)\n",
    "\n",
    "        # Create output path\n",
    "        if out_dir:\n",
    "            out_path = _make_out_path(csv_file, data_dir, out_dir)\n",
    "            out_path.parent.mkdir(parents=True, exist_ok=True)\n",
    "        else:\n",
    "            out_path = csv_file\n",
    "\n",
    "        # Write injected admission to output file\n",
    "        with open(out_path, \"w\", newline='', encoding=\"utf8\") as ofp:\n",
    "            writer = csv.DictWriter(ofp, fieldnames=headers)\n",
    "            writer.writeheader()\n",
    "            writer.writerows(injected_rows)\n"
   ]
  },
  {
   "cell_type": "code",
   "execution_count": 6,
   "metadata": {},
   "outputs": [],
   "source": [
    "def build_notes_map(noteevents: Path) -> Dict[int, str]:\n",
    "    \"\"\"Build mapping from note_id to text from NOTEEVENTS.csv\"\"\"\n",
    "    print(f\"Loading {noteevents}\")\n",
    "    id_text_map = dict()\n",
    "    with open(noteevents, \"r\", encoding=\"utf8\") as ifp:\n",
    "        reader = csv.reader(ifp)\n",
    "        # Skip header\n",
    "        next(reader)\n",
    "        for row in reader:\n",
    "            note_id, text = int(row[0]), row[10]\n",
    "            id_text_map[note_id] = text\n",
    "    return id_text_map"
   ]
  },
  {
   "cell_type": "code",
   "execution_count": 7,
   "metadata": {},
   "outputs": [],
   "source": [
    "def main(noteevents_path: Path, data_dir: Path, out_dir: Path = None):\n",
    "    # Build mapping from note_id to text\n",
    "    notes_map = build_notes_map(noteevents_path)\n",
    "    # Inject text into admissions and persist if out_dir provided\n",
    "    inject_and_persist(notes_map, data_dir, out_dir)"
   ]
  },
  {
   "cell_type": "code",
   "execution_count": null,
   "metadata": {},
   "outputs": [],
   "source": [
    "if __name__ == \"__main__\":\n",
    "    noteevents_path = Path(\"path/to/NOTEEVENTS.csv\")\n",
    "    data_dir = Path(\"path/to/top/level/MDACE/data/directory\")\n",
    "    out_dir = Path(\"path/to/output/directory\")  # Set to None if you don't want to save to an output directory\n",
    "\n",
    "    main(noteevents_path, data_dir, out_dir)"
   ]
  }
 ],
 "metadata": {
  "kernelspec": {
   "display_name": "Python 3",
   "language": "python",
   "name": "python3"
  },
  "language_info": {
   "codemirror_mode": {
    "name": "ipython",
    "version": 3
   },
   "file_extension": ".py",
   "mimetype": "text/x-python",
   "name": "python",
   "nbconvert_exporter": "python",
   "pygments_lexer": "ipython3",
   "version": "3.12.2"
  }
 },
 "nbformat": 4,
 "nbformat_minor": 2
}
