{
 "cells": [
  {
   "cell_type": "code",
   "execution_count": 1,
   "metadata": {},
   "outputs": [],
   "source": [
    "import os\n",
    "import pandas as pd\n",
    "import json\n",
    "\n",
    "# Function to extract entities from the JSON data\n",
    "def extract_entities(json_data):\n",
    "    entity_data = []  # Initialize an empty list to store entity information\n",
    "    hadm_id = json_data['hadm_id']  # Extract HADM_ID\n",
    "    # Iterate through each note in the JSON data\n",
    "    for note in json_data['notes']:\n",
    "        note_id = note['note_id']  # Extract Note ID\n",
    "        # Iterate through each annotation in the note\n",
    "        for annotation in note['annotations']:\n",
    "            # Extract entity text from the 'covered_text' field\n",
    "            entity_text = annotation['covered_text']\n",
    "            # Extract entity type\n",
    "            entity_type = annotation['type']\n",
    "            # Append entity information to the list\n",
    "            entity_data.append({\n",
    "                'HADM_ID': hadm_id,\n",
    "                'Note_ID': note_id,\n",
    "                'Entity_Text': entity_text,\n",
    "                'Entity_Type': entity_type\n",
    "            })\n",
    "    return entity_data"
   ]
  },
  {
   "cell_type": "code",
   "execution_count": 2,
   "metadata": {},
   "outputs": [],
   "source": [
    "# Function to extract information from JSON files\n",
    "def extract_info_from_json(json_file_path, entity_data):\n",
    "    # Load JSON data from the file\n",
    "    with open(json_file_path, 'r') as file:\n",
    "        json_data = json.load(file)\n",
    "        # Extract entities from the JSON data\n",
    "        entities = extract_entities(json_data)\n",
    "        # Extend entity_data list with the extracted entities\n",
    "        entity_data.extend(entities)\n"
   ]
  },
  {
   "cell_type": "code",
   "execution_count": 7,
   "metadata": {},
   "outputs": [],
   "source": [
    "# Function to search for JSON files in a folder and its subfolders\n",
    "def search_files(folder_path):\n",
    "    entity_data = []  # Initialize an empty list to store entity information\n",
    "    # Recursively search for JSON files in the folder and its subfolders\n",
    "    for root, dirs, files in os.walk(folder_path):\n",
    "        for filename in files:\n",
    "            if filename.endswith('.json'):\n",
    "                # Construct the full path to the JSON file\n",
    "                json_file_path = os.path.join(root, filename)\n",
    "                print(\"Processing:\", json_file_path)\n",
    "                # Call extract_info_from_json function to extract information from the JSON file\n",
    "                extract_info_from_json(json_file_path, entity_data)\n",
    "                # Print a separator after processing each file\n",
    "                print(\"=\" * 50)\n",
    "\n",
    "    # Create a DataFrame from the entity_data list\n",
    "    entity_df = pd.DataFrame(entity_data)\n",
    "    # Print the DataFrame\n",
    "    #print(entity_df)\n",
    "    # Print the count of unique HADM_ID values\n",
    "    print(\"Total unique HADM_ID count:\", entity_df['HADM_ID'].nunique())\n",
    "\n",
    "    return entity_df  # Return the DataFrame"
   ]
  },
  {
   "cell_type": "code",
   "execution_count": 10,
   "metadata": {},
   "outputs": [
    {
     "name": "stdout",
     "output_type": "stream",
     "text": [
      "Processing: C:\\Users\\okechukwu chude\\Documents\\NLP\\text extraction\\Automating-Medical-Coding\\2\\100197-ICD-9.json\n",
      "==================================================\n",
      "Processing: C:\\Users\\okechukwu chude\\Documents\\NLP\\text extraction\\Automating-Medical-Coding\\2\\ICD-10\\1.0\\101525-ICD-10.json\n",
      "==================================================\n",
      "Total unique HADM_ID count: 2\n"
     ]
    }
   ],
   "source": [
    "# Specify the path to the main folder containing subfolders with JSON files\n",
    "main_folder_path = r\"C:\\Users\\okechukwu chude\\Documents\\NLP\\text extraction\\Automating-Medical-Coding\\2\"\n",
    "\n",
    "# Call the search_files function to start searching for JSON files in the main folder and its subfolders\n",
    "entity_df = search_files(main_folder_path)"
   ]
  },
  {
   "cell_type": "code",
   "execution_count": 11,
   "metadata": {},
   "outputs": [
    {
     "name": "stdout",
     "output_type": "stream",
     "text": [
      "    HADM_ID  Note_ID                    Entity_Text     Entity_Type\n",
      "0    100197    25762                            IPH  MapType.APPROX\n",
      "1    100197    25762     intraventricular extension  MapType.APPROX\n",
      "2    100197    25762                  hydrocephalus  MapType.APPROX\n",
      "3    100197    25762    intraparenchymal hemorrhage  MapType.APPROX\n",
      "4    100197    25762                            DNR           Human\n",
      "..      ...      ...                            ...             ...\n",
      "81   101525   566978                   WBC elevated           Human\n",
      "82   101525  1071556  fracture of the left clavicle           Human\n",
      "83   101525  1071962                      neck pain           Human\n",
      "84   101525  1071963                      neck pain           Human\n",
      "85   101525   240524                   Sinus rhythm           Human\n",
      "\n",
      "[86 rows x 4 columns]\n"
     ]
    }
   ],
   "source": [
    "print(entity_df)"
   ]
  },
  {
   "cell_type": "code",
   "execution_count": null,
   "metadata": {},
   "outputs": [],
   "source": []
  }
 ],
 "metadata": {
  "kernelspec": {
   "display_name": "Python 3",
   "language": "python",
   "name": "python3"
  },
  "language_info": {
   "codemirror_mode": {
    "name": "ipython",
    "version": 3
   },
   "file_extension": ".py",
   "mimetype": "text/x-python",
   "name": "python",
   "nbconvert_exporter": "python",
   "pygments_lexer": "ipython3",
   "version": "3.12.2"
  }
 },
 "nbformat": 4,
 "nbformat_minor": 2
}
