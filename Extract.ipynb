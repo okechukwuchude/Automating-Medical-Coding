{
 "cells": [
  {
   "cell_type": "code",
   "execution_count": 12,
   "metadata": {},
   "outputs": [],
   "source": [
    "import os\n",
    "import pandas as pd\n",
    "import json\n",
    "\n",
    "# Function to extract entities from the JSON data\n",
    "def extract_entities(json_data):\n",
    "    entity_data = []  # Initialize an empty list to store entity information\n",
    "    hadm_id = json_data['hadm_id']  # Extract HADM_ID\n",
    "    # Iterate through each note in the JSON data\n",
    "    for note in json_data['notes']:\n",
    "        note_id = note['note_id']  # Extract Note ID\n",
    "        # Iterate through each annotation in the note\n",
    "        for annotation in note['annotations']:\n",
    "            # Extract entity information\n",
    "            entity_info = {\n",
    "                'HADM_ID': hadm_id,\n",
    "                'Note_ID': note_id,\n",
    "                'Entity_Text': annotation['covered_text'],\n",
    "                'Entity_Type': annotation['type'],\n",
    "                'Code': annotation['code'],\n",
    "                'Code_System': annotation['code_system']\n",
    "            }\n",
    "            # Append entity information to the list\n",
    "            entity_data.append(entity_info)\n",
    "    return entity_data"
   ]
  },
  {
   "cell_type": "code",
   "execution_count": 13,
   "metadata": {},
   "outputs": [],
   "source": [
    "# Function to extract information from JSON files\n",
    "def extract_info_from_json(json_file_path, entity_data):\n",
    "    # Load JSON data from the file\n",
    "    with open(json_file_path, 'r') as file:\n",
    "        json_data = json.load(file)\n",
    "        # Extract entities from the JSON data\n",
    "        entities = extract_entities(json_data)\n",
    "        # Extend entity_data list with the extracted entities\n",
    "        entity_data.extend(entities)\n"
   ]
  },
  {
   "cell_type": "code",
   "execution_count": 14,
   "metadata": {},
   "outputs": [],
   "source": [
    "# Function to search for JSON files in a folder and its subfolders\n",
    "def search_files(folder_path):\n",
    "    entity_data = []  # Initialize an empty list to store entity information\n",
    "    # Recursively search for JSON files in the folder and its subfolders\n",
    "    for root, dirs, files in os.walk(folder_path):\n",
    "        for filename in files:\n",
    "            if filename.endswith('.json'):\n",
    "                # Construct the full path to the JSON file\n",
    "                json_file_path = os.path.join(root, filename)\n",
    "                print(\"Processing:\", json_file_path)\n",
    "                # Call extract_info_from_json function to extract information from the JSON file\n",
    "                extract_info_from_json(json_file_path, entity_data)\n",
    "                # Print a separator after processing each file\n",
    "                print(\"=\" * 50)\n",
    "\n",
    "    # Create a DataFrame from the entity_data list\n",
    "    entity_df = pd.DataFrame(entity_data)\n",
    "    # Print the DataFrame\n",
    "    #print(entity_df)\n",
    "    # Print the count of unique HADM_ID values\n",
    "    print(\"Total unique HADM_ID count:\", entity_df['HADM_ID'].nunique())\n",
    "\n",
    "    return entity_df  # Return the DataFrame"
   ]
  },
  {
   "cell_type": "code",
   "execution_count": 27,
   "metadata": {},
   "outputs": [
    {
     "name": "stdout",
     "output_type": "stream",
     "text": [
      "Processing: C:\\Users\\okechukwu chude\\Documents\\NLP\\text extraction\\Automating-Medical-Coding\\2\\100197-ICD-9.json\n",
      "==================================================\n",
      "Processing: C:\\Users\\okechukwu chude\\Documents\\NLP\\text extraction\\Automating-Medical-Coding\\2\\ICD-10\\1.0\\101525-ICD-10.json\n",
      "==================================================\n",
      "Total unique HADM_ID count: 2\n"
     ]
    }
   ],
   "source": [
    "# Specify the path to the main folder containing subfolders with JSON files\n",
    "main_folder_path = r\"C:\\Users\\okechukwu chude\\Documents\\NLP\\text extraction\\Automating-Medical-Coding\\2\"\n",
    "\n",
    "# Call the search_files function to start searching for JSON files in the main folder and its subfolders\n",
    "entity_df = search_files(main_folder_path)"
   ]
  },
  {
   "cell_type": "code",
   "execution_count": 28,
   "metadata": {},
   "outputs": [
    {
     "name": "stdout",
     "output_type": "stream",
     "text": [
      "    HADM_ID  Note_ID                    Entity_Text     Entity_Type      Code  \\\n",
      "0    100197    25762                            IPH  MapType.APPROX       431   \n",
      "1    100197    25762     intraventricular extension  MapType.APPROX       431   \n",
      "2    100197    25762                  hydrocephalus  MapType.APPROX     331.4   \n",
      "3    100197    25762    intraparenchymal hemorrhage  MapType.APPROX       431   \n",
      "4    100197    25762                            DNR           Human    V49.86   \n",
      "..      ...      ...                            ...             ...       ...   \n",
      "81   101525   566978                   WBC elevated           Human   D72.829   \n",
      "82   101525  1071556  fracture of the left clavicle           Human  S42.002A   \n",
      "83   101525  1071962                      neck pain           Human     M54.2   \n",
      "84   101525  1071963                      neck pain           Human     M54.2   \n",
      "85   101525   240524                   Sinus rhythm           Human     93000   \n",
      "\n",
      "   Code_System  \n",
      "0     ICD-9-CM  \n",
      "1     ICD-9-CM  \n",
      "2     ICD-9-CM  \n",
      "3     ICD-9-CM  \n",
      "4     ICD-9-CM  \n",
      "..         ...  \n",
      "81   ICD-10-CM  \n",
      "82   ICD-10-CM  \n",
      "83   ICD-10-CM  \n",
      "84   ICD-10-CM  \n",
      "85         CPT  \n",
      "\n",
      "[86 rows x 6 columns]\n"
     ]
    }
   ],
   "source": [
    "print(entity_df)"
   ]
  },
  {
   "cell_type": "code",
   "execution_count": 30,
   "metadata": {},
   "outputs": [],
   "source": [
    "data = entity_df.drop(['HADM_ID','Note_ID','Entity_Type'], axis=1)"
   ]
  },
  {
   "cell_type": "code",
   "execution_count": 31,
   "metadata": {},
   "outputs": [
    {
     "name": "stdout",
     "output_type": "stream",
     "text": [
      "                      Entity_Text      Code Code_System\n",
      "0                             IPH       431    ICD-9-CM\n",
      "1      intraventricular extension       431    ICD-9-CM\n",
      "2                   hydrocephalus     331.4    ICD-9-CM\n",
      "3     intraparenchymal hemorrhage       431    ICD-9-CM\n",
      "4                             DNR    V49.86    ICD-9-CM\n",
      "..                            ...       ...         ...\n",
      "81                   WBC elevated   D72.829   ICD-10-CM\n",
      "82  fracture of the left clavicle  S42.002A   ICD-10-CM\n",
      "83                      neck pain     M54.2   ICD-10-CM\n",
      "84                      neck pain     M54.2   ICD-10-CM\n",
      "85                   Sinus rhythm     93000         CPT\n",
      "\n",
      "[86 rows x 3 columns]\n"
     ]
    }
   ],
   "source": [
    "print(data)"
   ]
  },
  {
   "cell_type": "code",
   "execution_count": 33,
   "metadata": {},
   "outputs": [
    {
     "name": "stdout",
     "output_type": "stream",
     "text": [
      "          Entity_Text Tag   Code Code_System\n",
      "0                 IPH   B    431    ICD-9-CM\n",
      "1    intraventricular   B    431    ICD-9-CM\n",
      "2           extension   I    431    ICD-9-CM\n",
      "3       hydrocephalus   B  331.4    ICD-9-CM\n",
      "4    intraparenchymal   B    431    ICD-9-CM\n",
      "..                ...  ..    ...         ...\n",
      "217              pain   I  M54.2   ICD-10-CM\n",
      "218              neck   B  M54.2   ICD-10-CM\n",
      "219              pain   I  M54.2   ICD-10-CM\n",
      "220             Sinus   B  93000         CPT\n",
      "221            rhythm   I  93000         CPT\n",
      "\n",
      "[222 rows x 4 columns]\n"
     ]
    }
   ],
   "source": [
    "# Function to split text and create new rows with B or I values\n",
    "\n",
    "def split_text_to_rows(row):\n",
    "    words = row['Entity_Text'].split()\n",
    "    rows = []\n",
    "    for i, word in enumerate(words):\n",
    "        if i == 0:\n",
    "            tag = 'B'\n",
    "        else:\n",
    "            tag = 'I'\n",
    "        rows.append({'Entity_Text': word, 'Tag': tag, 'Code': row['Code'], 'Code_System': row['Code_System']})\n",
    "    return rows\n",
    "\n",
    "# Apply the function to each row and concatenate the results\n",
    "new_rows = []\n",
    "for index, row in data.iterrows():\n",
    "    new_rows.extend(split_text_to_rows(row))\n",
    "\n",
    "# Create a new dataframe with the split rows\n",
    "new_df = pd.DataFrame(new_rows)\n",
    "\n",
    "print(new_df)"
   ]
  },
  {
   "cell_type": "code",
   "execution_count": null,
   "metadata": {},
   "outputs": [],
   "source": []
  }
 ],
 "metadata": {
  "kernelspec": {
   "display_name": "Python 3",
   "language": "python",
   "name": "python3"
  },
  "language_info": {
   "codemirror_mode": {
    "name": "ipython",
    "version": 3
   },
   "file_extension": ".py",
   "mimetype": "text/x-python",
   "name": "python",
   "nbconvert_exporter": "python",
   "pygments_lexer": "ipython3",
   "version": "3.12.2"
  }
 },
 "nbformat": 4,
 "nbformat_minor": 2
}
